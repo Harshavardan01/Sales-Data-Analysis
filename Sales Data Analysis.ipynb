{
 "cells": [
  {
   "cell_type": "markdown",
   "metadata": {
    "application/vnd.databricks.v1+cell": {
     "cellMetadata": {},
     "inputWidgets": {},
     "nuid": "a38112ad-d74a-466d-a754-ddd0d1825e7f",
     "showTitle": false,
     "tableResultSettingsMap": {},
     "title": ""
    }
   },
   "source": [
    "# Sales Data Analysis\n",
    "\n",
    "Here we are going to analyze about the sales data that we get from sales and menu datasets. Analyze some key Performance Indicator(KPI) like total amount spent by customer, on each food category, montly quaterly yearly data, frequently ordered etc..\n",
    "\n",
    "We are going to use pyspark for this projet to get insights on these business solutions.\n"
   ]
  },
  {
   "cell_type": "markdown",
   "metadata": {
    "application/vnd.databricks.v1+cell": {
     "cellMetadata": {},
     "inputWidgets": {},
     "nuid": "461be60c-7da3-4b2d-b4fb-8d23344a4eac",
     "showTitle": false,
     "tableResultSettingsMap": {},
     "title": ""
    }
   },
   "source": [
    "Sales: /FileStore/tables/sales_csv.txt\n",
    "\n",
    "Menu: /FileStore/tables/menu_csv.txt"
   ]
  },
  {
   "cell_type": "markdown",
   "metadata": {
    "application/vnd.databricks.v1+cell": {
     "cellMetadata": {},
     "inputWidgets": {},
     "nuid": "0fd4d391-f5e3-409f-92c4-6fb22e19c3f7",
     "showTitle": false,
     "tableResultSettingsMap": {},
     "title": ""
    }
   },
   "source": [
    "### Sales DataFrame\n"
   ]
  },
  {
   "cell_type": "code",
   "execution_count": 0,
   "metadata": {
    "application/vnd.databricks.v1+cell": {
     "cellMetadata": {
      "byteLimit": 2048000,
      "rowLimit": 10000
     },
     "inputWidgets": {},
     "nuid": "6e851649-e8fa-4167-a61e-1c3b74a7c386",
     "showTitle": false,
     "tableResultSettingsMap": {},
     "title": ""
    }
   },
   "outputs": [
    {
     "output_type": "display_data",
     "data": {
      "text/html": [
       "<style scoped>\n",
       "  .table-result-container {\n",
       "    max-height: 300px;\n",
       "    overflow: auto;\n",
       "  }\n",
       "  table, th, td {\n",
       "    border: 1px solid black;\n",
       "    border-collapse: collapse;\n",
       "  }\n",
       "  th, td {\n",
       "    padding: 5px;\n",
       "  }\n",
       "  th {\n",
       "    text-align: left;\n",
       "  }\n",
       "</style><div class='table-result-container'><table class='table-result'><thead style='background-color: white'><tr><th>Product_id</th><th>Customer_id</th><th>Order_date</th><th>Location</th><th>Source_order</th></tr></thead><tbody><tr><td>1</td><td>A</td><td>2023-01-01</td><td>India</td><td>Swiggy</td></tr><tr><td>2</td><td>A</td><td>2022-01-01</td><td>India</td><td>Swiggy</td></tr><tr><td>2</td><td>A</td><td>2023-01-07</td><td>India</td><td>Swiggy</td></tr><tr><td>3</td><td>A</td><td>2023-01-10</td><td>India</td><td>Restaurant</td></tr><tr><td>3</td><td>A</td><td>2022-01-11</td><td>India</td><td>Swiggy</td></tr><tr><td>3</td><td>A</td><td>2023-01-11</td><td>India</td><td>Restaurant</td></tr><tr><td>2</td><td>B</td><td>2022-02-01</td><td>India</td><td>Swiggy</td></tr><tr><td>2</td><td>B</td><td>2023-01-02</td><td>India</td><td>Swiggy</td></tr><tr><td>1</td><td>B</td><td>2023-01-04</td><td>India</td><td>Restaurant</td></tr><tr><td>1</td><td>B</td><td>2023-02-11</td><td>India</td><td>Swiggy</td></tr><tr><td>3</td><td>B</td><td>2023-01-16</td><td>India</td><td>zomato</td></tr><tr><td>3</td><td>B</td><td>2022-02-01</td><td>India</td><td>zomato</td></tr><tr><td>3</td><td>C</td><td>2023-01-01</td><td>India</td><td>zomato</td></tr><tr><td>1</td><td>C</td><td>2023-01-01</td><td>UK</td><td>Swiggy</td></tr><tr><td>6</td><td>C</td><td>2022-01-07</td><td>UK</td><td>zomato</td></tr><tr><td>3</td><td>D</td><td>2023-02-16</td><td>UK</td><td>Restaurant</td></tr><tr><td>5</td><td>D</td><td>2022-02-01</td><td>UK</td><td>zomato</td></tr><tr><td>3</td><td>E</td><td>2023-02-01</td><td>UK</td><td>Restaurant</td></tr><tr><td>4</td><td>E</td><td>2023-02-01</td><td>UK</td><td>Swiggy</td></tr><tr><td>4</td><td>E</td><td>2023-02-07</td><td>UK</td><td>Restaurant</td></tr><tr><td>2</td><td>A</td><td>2022-01-01</td><td>UK</td><td>Swiggy</td></tr><tr><td>2</td><td>A</td><td>2023-01-07</td><td>UK</td><td>Swiggy</td></tr><tr><td>3</td><td>A</td><td>2023-01-10</td><td>UK</td><td>Restaurant</td></tr><tr><td>3</td><td>A</td><td>2022-01-11</td><td>UK</td><td>Swiggy</td></tr><tr><td>3</td><td>A</td><td>2023-01-11</td><td>UK</td><td>zomato</td></tr><tr><td>2</td><td>B</td><td>2022-03-01</td><td>UK</td><td>zomato</td></tr><tr><td>2</td><td>B</td><td>2023-01-02</td><td>UK</td><td>zomato</td></tr><tr><td>1</td><td>B</td><td>2023-01-04</td><td>UK</td><td>Swiggy</td></tr><tr><td>1</td><td>B</td><td>2023-03-11</td><td>UK</td><td>Restaurant</td></tr><tr><td>3</td><td>B</td><td>2023-01-16</td><td>UK</td><td>Swiggy</td></tr><tr><td>3</td><td>B</td><td>2023-03-01</td><td>UK</td><td>Swiggy</td></tr><tr><td>3</td><td>C</td><td>2023-01-01</td><td>UK</td><td>Restaurant</td></tr><tr><td>1</td><td>C</td><td>2023-01-01</td><td>USA</td><td>Swiggy</td></tr><tr><td>6</td><td>C</td><td>2023-01-07</td><td>USA</td><td>zomato</td></tr><tr><td>3</td><td>D</td><td>2022-03-16</td><td>USA</td><td>zomato</td></tr><tr><td>5</td><td>D</td><td>2023-03-01</td><td>USA</td><td>zomato</td></tr><tr><td>3</td><td>E</td><td>2023-03-01</td><td>USA</td><td>Swiggy</td></tr><tr><td>4</td><td>E</td><td>2022-03-01</td><td>USA</td><td>zomato</td></tr><tr><td>4</td><td>E</td><td>2023-03-07</td><td>USA</td><td>zomato</td></tr><tr><td>1</td><td>A</td><td>2023-05-05</td><td>India</td><td>Swiggy</td></tr><tr><td>2</td><td>A</td><td>2022-05-05</td><td>India</td><td>Swiggy</td></tr><tr><td>2</td><td>A</td><td>2023-05-07</td><td>India</td><td>Swiggy</td></tr><tr><td>3</td><td>A</td><td>2023-05-10</td><td>India</td><td>Restaurant</td></tr><tr><td>3</td><td>A</td><td>2022-05-11</td><td>India</td><td>Swiggy</td></tr><tr><td>3</td><td>A</td><td>2023-05-11</td><td>India</td><td>Restaurant</td></tr><tr><td>2</td><td>B</td><td>2022-02-05</td><td>India</td><td>Swiggy</td></tr><tr><td>2</td><td>B</td><td>2023-05-02</td><td>India</td><td>Swiggy</td></tr><tr><td>1</td><td>B</td><td>2023-05-04</td><td>India</td><td>Restaurant</td></tr><tr><td>1</td><td>B</td><td>2023-02-11</td><td>India</td><td>Swiggy</td></tr><tr><td>3</td><td>B</td><td>2023-05-16</td><td>India</td><td>zomato</td></tr><tr><td>3</td><td>B</td><td>2022-02-05</td><td>India</td><td>zomato</td></tr><tr><td>3</td><td>C</td><td>2023-05-05</td><td>India</td><td>zomato</td></tr><tr><td>1</td><td>C</td><td>2023-05-05</td><td>UK</td><td>Swiggy</td></tr><tr><td>6</td><td>C</td><td>2022-05-07</td><td>UK</td><td>zomato</td></tr><tr><td>3</td><td>D</td><td>2023-02-16</td><td>UK</td><td>Restaurant</td></tr><tr><td>5</td><td>D</td><td>2022-02-05</td><td>UK</td><td>zomato</td></tr><tr><td>3</td><td>E</td><td>2023-02-05</td><td>UK</td><td>Restaurant</td></tr><tr><td>4</td><td>E</td><td>2023-02-05</td><td>UK</td><td>Swiggy</td></tr><tr><td>4</td><td>E</td><td>2023-02-07</td><td>UK</td><td>Restaurant</td></tr><tr><td>2</td><td>A</td><td>2022-05-05</td><td>UK</td><td>Swiggy</td></tr><tr><td>2</td><td>A</td><td>2023-05-07</td><td>UK</td><td>Swiggy</td></tr><tr><td>3</td><td>A</td><td>2023-05-10</td><td>UK</td><td>Restaurant</td></tr><tr><td>3</td><td>A</td><td>2022-05-11</td><td>UK</td><td>Swiggy</td></tr><tr><td>3</td><td>A</td><td>2023-05-11</td><td>UK</td><td>zomato</td></tr><tr><td>2</td><td>B</td><td>2022-07-05</td><td>UK</td><td>zomato</td></tr><tr><td>2</td><td>B</td><td>2023-05-02</td><td>UK</td><td>zomato</td></tr><tr><td>1</td><td>B</td><td>2023-05-04</td><td>UK</td><td>Swiggy</td></tr><tr><td>1</td><td>B</td><td>2023-07-11</td><td>UK</td><td>Restaurant</td></tr><tr><td>3</td><td>B</td><td>2023-05-16</td><td>UK</td><td>Swiggy</td></tr><tr><td>3</td><td>B</td><td>2023-07-05</td><td>UK</td><td>Swiggy</td></tr><tr><td>3</td><td>C</td><td>2023-05-05</td><td>UK</td><td>Restaurant</td></tr><tr><td>1</td><td>C</td><td>2023-05-05</td><td>USA</td><td>Swiggy</td></tr><tr><td>6</td><td>C</td><td>2023-05-07</td><td>USA</td><td>zomato</td></tr><tr><td>3</td><td>D</td><td>2022-07-16</td><td>USA</td><td>zomato</td></tr><tr><td>5</td><td>D</td><td>2023-07-05</td><td>USA</td><td>zomato</td></tr><tr><td>3</td><td>E</td><td>2023-07-05</td><td>USA</td><td>Swiggy</td></tr><tr><td>4</td><td>E</td><td>2022-07-05</td><td>USA</td><td>zomato</td></tr><tr><td>4</td><td>E</td><td>2023-07-07</td><td>USA</td><td>zomato</td></tr><tr><td>1</td><td>A</td><td>2023-06-06</td><td>India</td><td>Swiggy</td></tr><tr><td>2</td><td>A</td><td>2022-06-06</td><td>India</td><td>Swiggy</td></tr><tr><td>2</td><td>A</td><td>2023-06-11</td><td>India</td><td>Swiggy</td></tr><tr><td>3</td><td>A</td><td>2023-06-10</td><td>India</td><td>Restaurant</td></tr><tr><td>3</td><td>A</td><td>2022-06-11</td><td>India</td><td>Swiggy</td></tr><tr><td>3</td><td>A</td><td>2023-06-11</td><td>India</td><td>Restaurant</td></tr><tr><td>2</td><td>B</td><td>2022-02-06</td><td>India</td><td>Swiggy</td></tr><tr><td>2</td><td>B</td><td>2023-06-02</td><td>India</td><td>Swiggy</td></tr><tr><td>1</td><td>B</td><td>2023-06-04</td><td>India</td><td>Restaurant</td></tr><tr><td>1</td><td>B</td><td>2023-02-11</td><td>India</td><td>Swiggy</td></tr><tr><td>3</td><td>B</td><td>2023-06-16</td><td>India</td><td>zomato</td></tr><tr><td>3</td><td>B</td><td>2022-02-06</td><td>India</td><td>zomato</td></tr><tr><td>3</td><td>C</td><td>2023-06-06</td><td>India</td><td>zomato</td></tr><tr><td>1</td><td>C</td><td>2023-06-06</td><td>UK</td><td>Swiggy</td></tr><tr><td>6</td><td>C</td><td>2022-06-11</td><td>UK</td><td>zomato</td></tr><tr><td>3</td><td>D</td><td>2023-02-16</td><td>UK</td><td>Restaurant</td></tr><tr><td>5</td><td>D</td><td>2022-02-06</td><td>UK</td><td>zomato</td></tr><tr><td>3</td><td>E</td><td>2023-02-06</td><td>UK</td><td>Restaurant</td></tr><tr><td>4</td><td>E</td><td>2023-02-06</td><td>UK</td><td>Swiggy</td></tr><tr><td>4</td><td>E</td><td>2023-02-11</td><td>UK</td><td>Restaurant</td></tr><tr><td>2</td><td>A</td><td>2022-06-06</td><td>UK</td><td>Swiggy</td></tr><tr><td>2</td><td>A</td><td>2023-06-11</td><td>UK</td><td>Swiggy</td></tr><tr><td>3</td><td>A</td><td>2023-06-10</td><td>UK</td><td>Restaurant</td></tr><tr><td>3</td><td>A</td><td>2022-06-11</td><td>UK</td><td>Swiggy</td></tr><tr><td>3</td><td>A</td><td>2023-06-11</td><td>UK</td><td>zomato</td></tr><tr><td>2</td><td>B</td><td>2022-11-06</td><td>UK</td><td>zomato</td></tr><tr><td>2</td><td>B</td><td>2023-06-02</td><td>UK</td><td>zomato</td></tr><tr><td>1</td><td>B</td><td>2023-06-04</td><td>UK</td><td>Swiggy</td></tr><tr><td>1</td><td>B</td><td>2023-11-11</td><td>UK</td><td>Restaurant</td></tr><tr><td>3</td><td>B</td><td>2023-06-16</td><td>UK</td><td>Swiggy</td></tr><tr><td>3</td><td>B</td><td>2023-11-06</td><td>UK</td><td>Swiggy</td></tr><tr><td>3</td><td>C</td><td>2023-06-06</td><td>UK</td><td>Restaurant</td></tr><tr><td>1</td><td>C</td><td>2023-06-06</td><td>USA</td><td>Swiggy</td></tr><tr><td>6</td><td>C</td><td>2023-06-11</td><td>USA</td><td>zomato</td></tr><tr><td>3</td><td>D</td><td>2022-11-16</td><td>USA</td><td>zomato</td></tr><tr><td>5</td><td>D</td><td>2023-11-06</td><td>USA</td><td>zomato</td></tr><tr><td>3</td><td>E</td><td>2023-11-06</td><td>USA</td><td>Swiggy</td></tr><tr><td>4</td><td>E</td><td>2022-11-06</td><td>USA</td><td>zomato</td></tr><tr><td>4</td><td>E</td><td>2023-11-11</td><td>USA</td><td>zomato</td></tr></tbody></table></div>"
      ]
     },
     "metadata": {
      "application/vnd.databricks.v1+output": {
       "addedWidgets": {},
       "aggData": [],
       "aggError": "",
       "aggOverflow": false,
       "aggSchema": [],
       "aggSeriesLimitReached": false,
       "aggType": "",
       "arguments": {},
       "columnCustomDisplayInfos": {},
       "data": [
        [
         1,
         "A",
         "2023-01-01",
         "India",
         "Swiggy"
        ],
        [
         2,
         "A",
         "2022-01-01",
         "India",
         "Swiggy"
        ],
        [
         2,
         "A",
         "2023-01-07",
         "India",
         "Swiggy"
        ],
        [
         3,
         "A",
         "2023-01-10",
         "India",
         "Restaurant"
        ],
        [
         3,
         "A",
         "2022-01-11",
         "India",
         "Swiggy"
        ],
        [
         3,
         "A",
         "2023-01-11",
         "India",
         "Restaurant"
        ],
        [
         2,
         "B",
         "2022-02-01",
         "India",
         "Swiggy"
        ],
        [
         2,
         "B",
         "2023-01-02",
         "India",
         "Swiggy"
        ],
        [
         1,
         "B",
         "2023-01-04",
         "India",
         "Restaurant"
        ],
        [
         1,
         "B",
         "2023-02-11",
         "India",
         "Swiggy"
        ],
        [
         3,
         "B",
         "2023-01-16",
         "India",
         "zomato"
        ],
        [
         3,
         "B",
         "2022-02-01",
         "India",
         "zomato"
        ],
        [
         3,
         "C",
         "2023-01-01",
         "India",
         "zomato"
        ],
        [
         1,
         "C",
         "2023-01-01",
         "UK",
         "Swiggy"
        ],
        [
         6,
         "C",
         "2022-01-07",
         "UK",
         "zomato"
        ],
        [
         3,
         "D",
         "2023-02-16",
         "UK",
         "Restaurant"
        ],
        [
         5,
         "D",
         "2022-02-01",
         "UK",
         "zomato"
        ],
        [
         3,
         "E",
         "2023-02-01",
         "UK",
         "Restaurant"
        ],
        [
         4,
         "E",
         "2023-02-01",
         "UK",
         "Swiggy"
        ],
        [
         4,
         "E",
         "2023-02-07",
         "UK",
         "Restaurant"
        ],
        [
         2,
         "A",
         "2022-01-01",
         "UK",
         "Swiggy"
        ],
        [
         2,
         "A",
         "2023-01-07",
         "UK",
         "Swiggy"
        ],
        [
         3,
         "A",
         "2023-01-10",
         "UK",
         "Restaurant"
        ],
        [
         3,
         "A",
         "2022-01-11",
         "UK",
         "Swiggy"
        ],
        [
         3,
         "A",
         "2023-01-11",
         "UK",
         "zomato"
        ],
        [
         2,
         "B",
         "2022-03-01",
         "UK",
         "zomato"
        ],
        [
         2,
         "B",
         "2023-01-02",
         "UK",
         "zomato"
        ],
        [
         1,
         "B",
         "2023-01-04",
         "UK",
         "Swiggy"
        ],
        [
         1,
         "B",
         "2023-03-11",
         "UK",
         "Restaurant"
        ],
        [
         3,
         "B",
         "2023-01-16",
         "UK",
         "Swiggy"
        ],
        [
         3,
         "B",
         "2023-03-01",
         "UK",
         "Swiggy"
        ],
        [
         3,
         "C",
         "2023-01-01",
         "UK",
         "Restaurant"
        ],
        [
         1,
         "C",
         "2023-01-01",
         "USA",
         "Swiggy"
        ],
        [
         6,
         "C",
         "2023-01-07",
         "USA",
         "zomato"
        ],
        [
         3,
         "D",
         "2022-03-16",
         "USA",
         "zomato"
        ],
        [
         5,
         "D",
         "2023-03-01",
         "USA",
         "zomato"
        ],
        [
         3,
         "E",
         "2023-03-01",
         "USA",
         "Swiggy"
        ],
        [
         4,
         "E",
         "2022-03-01",
         "USA",
         "zomato"
        ],
        [
         4,
         "E",
         "2023-03-07",
         "USA",
         "zomato"
        ],
        [
         1,
         "A",
         "2023-05-05",
         "India",
         "Swiggy"
        ],
        [
         2,
         "A",
         "2022-05-05",
         "India",
         "Swiggy"
        ],
        [
         2,
         "A",
         "2023-05-07",
         "India",
         "Swiggy"
        ],
        [
         3,
         "A",
         "2023-05-10",
         "India",
         "Restaurant"
        ],
        [
         3,
         "A",
         "2022-05-11",
         "India",
         "Swiggy"
        ],
        [
         3,
         "A",
         "2023-05-11",
         "India",
         "Restaurant"
        ],
        [
         2,
         "B",
         "2022-02-05",
         "India",
         "Swiggy"
        ],
        [
         2,
         "B",
         "2023-05-02",
         "India",
         "Swiggy"
        ],
        [
         1,
         "B",
         "2023-05-04",
         "India",
         "Restaurant"
        ],
        [
         1,
         "B",
         "2023-02-11",
         "India",
         "Swiggy"
        ],
        [
         3,
         "B",
         "2023-05-16",
         "India",
         "zomato"
        ],
        [
         3,
         "B",
         "2022-02-05",
         "India",
         "zomato"
        ],
        [
         3,
         "C",
         "2023-05-05",
         "India",
         "zomato"
        ],
        [
         1,
         "C",
         "2023-05-05",
         "UK",
         "Swiggy"
        ],
        [
         6,
         "C",
         "2022-05-07",
         "UK",
         "zomato"
        ],
        [
         3,
         "D",
         "2023-02-16",
         "UK",
         "Restaurant"
        ],
        [
         5,
         "D",
         "2022-02-05",
         "UK",
         "zomato"
        ],
        [
         3,
         "E",
         "2023-02-05",
         "UK",
         "Restaurant"
        ],
        [
         4,
         "E",
         "2023-02-05",
         "UK",
         "Swiggy"
        ],
        [
         4,
         "E",
         "2023-02-07",
         "UK",
         "Restaurant"
        ],
        [
         2,
         "A",
         "2022-05-05",
         "UK",
         "Swiggy"
        ],
        [
         2,
         "A",
         "2023-05-07",
         "UK",
         "Swiggy"
        ],
        [
         3,
         "A",
         "2023-05-10",
         "UK",
         "Restaurant"
        ],
        [
         3,
         "A",
         "2022-05-11",
         "UK",
         "Swiggy"
        ],
        [
         3,
         "A",
         "2023-05-11",
         "UK",
         "zomato"
        ],
        [
         2,
         "B",
         "2022-07-05",
         "UK",
         "zomato"
        ],
        [
         2,
         "B",
         "2023-05-02",
         "UK",
         "zomato"
        ],
        [
         1,
         "B",
         "2023-05-04",
         "UK",
         "Swiggy"
        ],
        [
         1,
         "B",
         "2023-07-11",
         "UK",
         "Restaurant"
        ],
        [
         3,
         "B",
         "2023-05-16",
         "UK",
         "Swiggy"
        ],
        [
         3,
         "B",
         "2023-07-05",
         "UK",
         "Swiggy"
        ],
        [
         3,
         "C",
         "2023-05-05",
         "UK",
         "Restaurant"
        ],
        [
         1,
         "C",
         "2023-05-05",
         "USA",
         "Swiggy"
        ],
        [
         6,
         "C",
         "2023-05-07",
         "USA",
         "zomato"
        ],
        [
         3,
         "D",
         "2022-07-16",
         "USA",
         "zomato"
        ],
        [
         5,
         "D",
         "2023-07-05",
         "USA",
         "zomato"
        ],
        [
         3,
         "E",
         "2023-07-05",
         "USA",
         "Swiggy"
        ],
        [
         4,
         "E",
         "2022-07-05",
         "USA",
         "zomato"
        ],
        [
         4,
         "E",
         "2023-07-07",
         "USA",
         "zomato"
        ],
        [
         1,
         "A",
         "2023-06-06",
         "India",
         "Swiggy"
        ],
        [
         2,
         "A",
         "2022-06-06",
         "India",
         "Swiggy"
        ],
        [
         2,
         "A",
         "2023-06-11",
         "India",
         "Swiggy"
        ],
        [
         3,
         "A",
         "2023-06-10",
         "India",
         "Restaurant"
        ],
        [
         3,
         "A",
         "2022-06-11",
         "India",
         "Swiggy"
        ],
        [
         3,
         "A",
         "2023-06-11",
         "India",
         "Restaurant"
        ],
        [
         2,
         "B",
         "2022-02-06",
         "India",
         "Swiggy"
        ],
        [
         2,
         "B",
         "2023-06-02",
         "India",
         "Swiggy"
        ],
        [
         1,
         "B",
         "2023-06-04",
         "India",
         "Restaurant"
        ],
        [
         1,
         "B",
         "2023-02-11",
         "India",
         "Swiggy"
        ],
        [
         3,
         "B",
         "2023-06-16",
         "India",
         "zomato"
        ],
        [
         3,
         "B",
         "2022-02-06",
         "India",
         "zomato"
        ],
        [
         3,
         "C",
         "2023-06-06",
         "India",
         "zomato"
        ],
        [
         1,
         "C",
         "2023-06-06",
         "UK",
         "Swiggy"
        ],
        [
         6,
         "C",
         "2022-06-11",
         "UK",
         "zomato"
        ],
        [
         3,
         "D",
         "2023-02-16",
         "UK",
         "Restaurant"
        ],
        [
         5,
         "D",
         "2022-02-06",
         "UK",
         "zomato"
        ],
        [
         3,
         "E",
         "2023-02-06",
         "UK",
         "Restaurant"
        ],
        [
         4,
         "E",
         "2023-02-06",
         "UK",
         "Swiggy"
        ],
        [
         4,
         "E",
         "2023-02-11",
         "UK",
         "Restaurant"
        ],
        [
         2,
         "A",
         "2022-06-06",
         "UK",
         "Swiggy"
        ],
        [
         2,
         "A",
         "2023-06-11",
         "UK",
         "Swiggy"
        ],
        [
         3,
         "A",
         "2023-06-10",
         "UK",
         "Restaurant"
        ],
        [
         3,
         "A",
         "2022-06-11",
         "UK",
         "Swiggy"
        ],
        [
         3,
         "A",
         "2023-06-11",
         "UK",
         "zomato"
        ],
        [
         2,
         "B",
         "2022-11-06",
         "UK",
         "zomato"
        ],
        [
         2,
         "B",
         "2023-06-02",
         "UK",
         "zomato"
        ],
        [
         1,
         "B",
         "2023-06-04",
         "UK",
         "Swiggy"
        ],
        [
         1,
         "B",
         "2023-11-11",
         "UK",
         "Restaurant"
        ],
        [
         3,
         "B",
         "2023-06-16",
         "UK",
         "Swiggy"
        ],
        [
         3,
         "B",
         "2023-11-06",
         "UK",
         "Swiggy"
        ],
        [
         3,
         "C",
         "2023-06-06",
         "UK",
         "Restaurant"
        ],
        [
         1,
         "C",
         "2023-06-06",
         "USA",
         "Swiggy"
        ],
        [
         6,
         "C",
         "2023-06-11",
         "USA",
         "zomato"
        ],
        [
         3,
         "D",
         "2022-11-16",
         "USA",
         "zomato"
        ],
        [
         5,
         "D",
         "2023-11-06",
         "USA",
         "zomato"
        ],
        [
         3,
         "E",
         "2023-11-06",
         "USA",
         "Swiggy"
        ],
        [
         4,
         "E",
         "2022-11-06",
         "USA",
         "zomato"
        ],
        [
         4,
         "E",
         "2023-11-11",
         "USA",
         "zomato"
        ]
       ],
       "datasetInfos": [],
       "dbfsResultPath": null,
       "isJsonSchema": true,
       "metadata": {},
       "overflow": false,
       "plotOptions": {
        "customPlotOptions": {},
        "displayType": "table",
        "pivotAggregation": null,
        "pivotColumns": null,
        "xColumns": null,
        "yColumns": null
       },
       "removedWidgets": [],
       "schema": [
        {
         "metadata": "{}",
         "name": "Product_id",
         "type": "\"integer\""
        },
        {
         "metadata": "{}",
         "name": "Customer_id",
         "type": "\"string\""
        },
        {
         "metadata": "{}",
         "name": "Order_date",
         "type": "\"date\""
        },
        {
         "metadata": "{}",
         "name": "Location",
         "type": "\"string\""
        },
        {
         "metadata": "{}",
         "name": "Source_order",
         "type": "\"string\""
        }
       ],
       "type": "table"
      }
     },
     "output_type": "display_data"
    }
   ],
   "source": [
    "from pyspark.sql.types import StructType, StructField, IntegerType, StringType, DateType\n",
    "schema = StructType([\n",
    "  StructField(\"Product_id\",IntegerType(),True),\n",
    "  StructField(\"Customer_id\",StringType(),True),\n",
    "  StructField(\"Order_date\",DateType(),True),\n",
    "  StructField(\"Location\",StringType(),True),\n",
    "  StructField(\"Source_order\",StringType(),True)\n",
    "])\n",
    "\n",
    "sales_df = spark.read.format(\"csv\").option(\"inferschema\",\"true\").schema(schema).load(\"/FileStore/tables/sales_csv.txt\")\n",
    "display(sales_df)"
   ]
  },
  {
   "cell_type": "markdown",
   "metadata": {
    "application/vnd.databricks.v1+cell": {
     "cellMetadata": {},
     "inputWidgets": {},
     "nuid": "3ebb17f8-b752-44c7-bcf3-80341b6167a0",
     "showTitle": false,
     "tableResultSettingsMap": {},
     "title": ""
    }
   },
   "source": [
    "For Analyzing montly, quaterly, yearly data we derive from date column"
   ]
  },
  {
   "cell_type": "code",
   "execution_count": 0,
   "metadata": {
    "application/vnd.databricks.v1+cell": {
     "cellMetadata": {
      "byteLimit": 2048000,
      "rowLimit": 10000
     },
     "inputWidgets": {},
     "nuid": "d7c86f80-e87a-4cbb-acab-6137bd468ca3",
     "showTitle": false,
     "tableResultSettingsMap": {},
     "title": ""
    }
   },
   "outputs": [],
   "source": [
    "from pyspark.sql.functions import month, quarter, year\n",
    "sales_df = sales_df.withColumn(\"Order_yearly\",year(sales_df.Order_date))\n"
   ]
  },
  {
   "cell_type": "code",
   "execution_count": 0,
   "metadata": {
    "application/vnd.databricks.v1+cell": {
     "cellMetadata": {
      "byteLimit": 2048000,
      "rowLimit": 10000
     },
     "inputWidgets": {},
     "nuid": "01f1b50d-4f3d-4cb7-abf9-cd10de7e2bfe",
     "showTitle": false,
     "tableResultSettingsMap": {},
     "title": ""
    }
   },
   "outputs": [
    {
     "output_type": "display_data",
     "data": {
      "text/html": [
       "<style scoped>\n",
       "  .table-result-container {\n",
       "    max-height: 300px;\n",
       "    overflow: auto;\n",
       "  }\n",
       "  table, th, td {\n",
       "    border: 1px solid black;\n",
       "    border-collapse: collapse;\n",
       "  }\n",
       "  th, td {\n",
       "    padding: 5px;\n",
       "  }\n",
       "  th {\n",
       "    text-align: left;\n",
       "  }\n",
       "</style><div class='table-result-container'><table class='table-result'><thead style='background-color: white'><tr><th>Product_id</th><th>Customer_id</th><th>Order_date</th><th>Location</th><th>Source_order</th><th>Order_yearly</th><th>Order_monthly</th><th>Order_quaterly</th></tr></thead><tbody><tr><td>1</td><td>A</td><td>2023-01-01</td><td>India</td><td>Swiggy</td><td>2023</td><td>1</td><td>1</td></tr><tr><td>2</td><td>A</td><td>2022-01-01</td><td>India</td><td>Swiggy</td><td>2022</td><td>1</td><td>1</td></tr><tr><td>2</td><td>A</td><td>2023-01-07</td><td>India</td><td>Swiggy</td><td>2023</td><td>1</td><td>1</td></tr><tr><td>3</td><td>A</td><td>2023-01-10</td><td>India</td><td>Restaurant</td><td>2023</td><td>1</td><td>1</td></tr><tr><td>3</td><td>A</td><td>2022-01-11</td><td>India</td><td>Swiggy</td><td>2022</td><td>1</td><td>1</td></tr><tr><td>3</td><td>A</td><td>2023-01-11</td><td>India</td><td>Restaurant</td><td>2023</td><td>1</td><td>1</td></tr><tr><td>2</td><td>B</td><td>2022-02-01</td><td>India</td><td>Swiggy</td><td>2022</td><td>2</td><td>1</td></tr><tr><td>2</td><td>B</td><td>2023-01-02</td><td>India</td><td>Swiggy</td><td>2023</td><td>1</td><td>1</td></tr><tr><td>1</td><td>B</td><td>2023-01-04</td><td>India</td><td>Restaurant</td><td>2023</td><td>1</td><td>1</td></tr><tr><td>1</td><td>B</td><td>2023-02-11</td><td>India</td><td>Swiggy</td><td>2023</td><td>2</td><td>1</td></tr><tr><td>3</td><td>B</td><td>2023-01-16</td><td>India</td><td>zomato</td><td>2023</td><td>1</td><td>1</td></tr><tr><td>3</td><td>B</td><td>2022-02-01</td><td>India</td><td>zomato</td><td>2022</td><td>2</td><td>1</td></tr><tr><td>3</td><td>C</td><td>2023-01-01</td><td>India</td><td>zomato</td><td>2023</td><td>1</td><td>1</td></tr><tr><td>1</td><td>C</td><td>2023-01-01</td><td>UK</td><td>Swiggy</td><td>2023</td><td>1</td><td>1</td></tr><tr><td>6</td><td>C</td><td>2022-01-07</td><td>UK</td><td>zomato</td><td>2022</td><td>1</td><td>1</td></tr><tr><td>3</td><td>D</td><td>2023-02-16</td><td>UK</td><td>Restaurant</td><td>2023</td><td>2</td><td>1</td></tr><tr><td>5</td><td>D</td><td>2022-02-01</td><td>UK</td><td>zomato</td><td>2022</td><td>2</td><td>1</td></tr><tr><td>3</td><td>E</td><td>2023-02-01</td><td>UK</td><td>Restaurant</td><td>2023</td><td>2</td><td>1</td></tr><tr><td>4</td><td>E</td><td>2023-02-01</td><td>UK</td><td>Swiggy</td><td>2023</td><td>2</td><td>1</td></tr><tr><td>4</td><td>E</td><td>2023-02-07</td><td>UK</td><td>Restaurant</td><td>2023</td><td>2</td><td>1</td></tr><tr><td>2</td><td>A</td><td>2022-01-01</td><td>UK</td><td>Swiggy</td><td>2022</td><td>1</td><td>1</td></tr><tr><td>2</td><td>A</td><td>2023-01-07</td><td>UK</td><td>Swiggy</td><td>2023</td><td>1</td><td>1</td></tr><tr><td>3</td><td>A</td><td>2023-01-10</td><td>UK</td><td>Restaurant</td><td>2023</td><td>1</td><td>1</td></tr><tr><td>3</td><td>A</td><td>2022-01-11</td><td>UK</td><td>Swiggy</td><td>2022</td><td>1</td><td>1</td></tr><tr><td>3</td><td>A</td><td>2023-01-11</td><td>UK</td><td>zomato</td><td>2023</td><td>1</td><td>1</td></tr><tr><td>2</td><td>B</td><td>2022-03-01</td><td>UK</td><td>zomato</td><td>2022</td><td>3</td><td>1</td></tr><tr><td>2</td><td>B</td><td>2023-01-02</td><td>UK</td><td>zomato</td><td>2023</td><td>1</td><td>1</td></tr><tr><td>1</td><td>B</td><td>2023-01-04</td><td>UK</td><td>Swiggy</td><td>2023</td><td>1</td><td>1</td></tr><tr><td>1</td><td>B</td><td>2023-03-11</td><td>UK</td><td>Restaurant</td><td>2023</td><td>3</td><td>1</td></tr><tr><td>3</td><td>B</td><td>2023-01-16</td><td>UK</td><td>Swiggy</td><td>2023</td><td>1</td><td>1</td></tr><tr><td>3</td><td>B</td><td>2023-03-01</td><td>UK</td><td>Swiggy</td><td>2023</td><td>3</td><td>1</td></tr><tr><td>3</td><td>C</td><td>2023-01-01</td><td>UK</td><td>Restaurant</td><td>2023</td><td>1</td><td>1</td></tr><tr><td>1</td><td>C</td><td>2023-01-01</td><td>USA</td><td>Swiggy</td><td>2023</td><td>1</td><td>1</td></tr><tr><td>6</td><td>C</td><td>2023-01-07</td><td>USA</td><td>zomato</td><td>2023</td><td>1</td><td>1</td></tr><tr><td>3</td><td>D</td><td>2022-03-16</td><td>USA</td><td>zomato</td><td>2022</td><td>3</td><td>1</td></tr><tr><td>5</td><td>D</td><td>2023-03-01</td><td>USA</td><td>zomato</td><td>2023</td><td>3</td><td>1</td></tr><tr><td>3</td><td>E</td><td>2023-03-01</td><td>USA</td><td>Swiggy</td><td>2023</td><td>3</td><td>1</td></tr><tr><td>4</td><td>E</td><td>2022-03-01</td><td>USA</td><td>zomato</td><td>2022</td><td>3</td><td>1</td></tr><tr><td>4</td><td>E</td><td>2023-03-07</td><td>USA</td><td>zomato</td><td>2023</td><td>3</td><td>1</td></tr><tr><td>1</td><td>A</td><td>2023-05-05</td><td>India</td><td>Swiggy</td><td>2023</td><td>5</td><td>2</td></tr><tr><td>2</td><td>A</td><td>2022-05-05</td><td>India</td><td>Swiggy</td><td>2022</td><td>5</td><td>2</td></tr><tr><td>2</td><td>A</td><td>2023-05-07</td><td>India</td><td>Swiggy</td><td>2023</td><td>5</td><td>2</td></tr><tr><td>3</td><td>A</td><td>2023-05-10</td><td>India</td><td>Restaurant</td><td>2023</td><td>5</td><td>2</td></tr><tr><td>3</td><td>A</td><td>2022-05-11</td><td>India</td><td>Swiggy</td><td>2022</td><td>5</td><td>2</td></tr><tr><td>3</td><td>A</td><td>2023-05-11</td><td>India</td><td>Restaurant</td><td>2023</td><td>5</td><td>2</td></tr><tr><td>2</td><td>B</td><td>2022-02-05</td><td>India</td><td>Swiggy</td><td>2022</td><td>2</td><td>1</td></tr><tr><td>2</td><td>B</td><td>2023-05-02</td><td>India</td><td>Swiggy</td><td>2023</td><td>5</td><td>2</td></tr><tr><td>1</td><td>B</td><td>2023-05-04</td><td>India</td><td>Restaurant</td><td>2023</td><td>5</td><td>2</td></tr><tr><td>1</td><td>B</td><td>2023-02-11</td><td>India</td><td>Swiggy</td><td>2023</td><td>2</td><td>1</td></tr><tr><td>3</td><td>B</td><td>2023-05-16</td><td>India</td><td>zomato</td><td>2023</td><td>5</td><td>2</td></tr><tr><td>3</td><td>B</td><td>2022-02-05</td><td>India</td><td>zomato</td><td>2022</td><td>2</td><td>1</td></tr><tr><td>3</td><td>C</td><td>2023-05-05</td><td>India</td><td>zomato</td><td>2023</td><td>5</td><td>2</td></tr><tr><td>1</td><td>C</td><td>2023-05-05</td><td>UK</td><td>Swiggy</td><td>2023</td><td>5</td><td>2</td></tr><tr><td>6</td><td>C</td><td>2022-05-07</td><td>UK</td><td>zomato</td><td>2022</td><td>5</td><td>2</td></tr><tr><td>3</td><td>D</td><td>2023-02-16</td><td>UK</td><td>Restaurant</td><td>2023</td><td>2</td><td>1</td></tr><tr><td>5</td><td>D</td><td>2022-02-05</td><td>UK</td><td>zomato</td><td>2022</td><td>2</td><td>1</td></tr><tr><td>3</td><td>E</td><td>2023-02-05</td><td>UK</td><td>Restaurant</td><td>2023</td><td>2</td><td>1</td></tr><tr><td>4</td><td>E</td><td>2023-02-05</td><td>UK</td><td>Swiggy</td><td>2023</td><td>2</td><td>1</td></tr><tr><td>4</td><td>E</td><td>2023-02-07</td><td>UK</td><td>Restaurant</td><td>2023</td><td>2</td><td>1</td></tr><tr><td>2</td><td>A</td><td>2022-05-05</td><td>UK</td><td>Swiggy</td><td>2022</td><td>5</td><td>2</td></tr><tr><td>2</td><td>A</td><td>2023-05-07</td><td>UK</td><td>Swiggy</td><td>2023</td><td>5</td><td>2</td></tr><tr><td>3</td><td>A</td><td>2023-05-10</td><td>UK</td><td>Restaurant</td><td>2023</td><td>5</td><td>2</td></tr><tr><td>3</td><td>A</td><td>2022-05-11</td><td>UK</td><td>Swiggy</td><td>2022</td><td>5</td><td>2</td></tr><tr><td>3</td><td>A</td><td>2023-05-11</td><td>UK</td><td>zomato</td><td>2023</td><td>5</td><td>2</td></tr><tr><td>2</td><td>B</td><td>2022-07-05</td><td>UK</td><td>zomato</td><td>2022</td><td>7</td><td>3</td></tr><tr><td>2</td><td>B</td><td>2023-05-02</td><td>UK</td><td>zomato</td><td>2023</td><td>5</td><td>2</td></tr><tr><td>1</td><td>B</td><td>2023-05-04</td><td>UK</td><td>Swiggy</td><td>2023</td><td>5</td><td>2</td></tr><tr><td>1</td><td>B</td><td>2023-07-11</td><td>UK</td><td>Restaurant</td><td>2023</td><td>7</td><td>3</td></tr><tr><td>3</td><td>B</td><td>2023-05-16</td><td>UK</td><td>Swiggy</td><td>2023</td><td>5</td><td>2</td></tr><tr><td>3</td><td>B</td><td>2023-07-05</td><td>UK</td><td>Swiggy</td><td>2023</td><td>7</td><td>3</td></tr><tr><td>3</td><td>C</td><td>2023-05-05</td><td>UK</td><td>Restaurant</td><td>2023</td><td>5</td><td>2</td></tr><tr><td>1</td><td>C</td><td>2023-05-05</td><td>USA</td><td>Swiggy</td><td>2023</td><td>5</td><td>2</td></tr><tr><td>6</td><td>C</td><td>2023-05-07</td><td>USA</td><td>zomato</td><td>2023</td><td>5</td><td>2</td></tr><tr><td>3</td><td>D</td><td>2022-07-16</td><td>USA</td><td>zomato</td><td>2022</td><td>7</td><td>3</td></tr><tr><td>5</td><td>D</td><td>2023-07-05</td><td>USA</td><td>zomato</td><td>2023</td><td>7</td><td>3</td></tr><tr><td>3</td><td>E</td><td>2023-07-05</td><td>USA</td><td>Swiggy</td><td>2023</td><td>7</td><td>3</td></tr><tr><td>4</td><td>E</td><td>2022-07-05</td><td>USA</td><td>zomato</td><td>2022</td><td>7</td><td>3</td></tr><tr><td>4</td><td>E</td><td>2023-07-07</td><td>USA</td><td>zomato</td><td>2023</td><td>7</td><td>3</td></tr><tr><td>1</td><td>A</td><td>2023-06-06</td><td>India</td><td>Swiggy</td><td>2023</td><td>6</td><td>2</td></tr><tr><td>2</td><td>A</td><td>2022-06-06</td><td>India</td><td>Swiggy</td><td>2022</td><td>6</td><td>2</td></tr><tr><td>2</td><td>A</td><td>2023-06-11</td><td>India</td><td>Swiggy</td><td>2023</td><td>6</td><td>2</td></tr><tr><td>3</td><td>A</td><td>2023-06-10</td><td>India</td><td>Restaurant</td><td>2023</td><td>6</td><td>2</td></tr><tr><td>3</td><td>A</td><td>2022-06-11</td><td>India</td><td>Swiggy</td><td>2022</td><td>6</td><td>2</td></tr><tr><td>3</td><td>A</td><td>2023-06-11</td><td>India</td><td>Restaurant</td><td>2023</td><td>6</td><td>2</td></tr><tr><td>2</td><td>B</td><td>2022-02-06</td><td>India</td><td>Swiggy</td><td>2022</td><td>2</td><td>1</td></tr><tr><td>2</td><td>B</td><td>2023-06-02</td><td>India</td><td>Swiggy</td><td>2023</td><td>6</td><td>2</td></tr><tr><td>1</td><td>B</td><td>2023-06-04</td><td>India</td><td>Restaurant</td><td>2023</td><td>6</td><td>2</td></tr><tr><td>1</td><td>B</td><td>2023-02-11</td><td>India</td><td>Swiggy</td><td>2023</td><td>2</td><td>1</td></tr><tr><td>3</td><td>B</td><td>2023-06-16</td><td>India</td><td>zomato</td><td>2023</td><td>6</td><td>2</td></tr><tr><td>3</td><td>B</td><td>2022-02-06</td><td>India</td><td>zomato</td><td>2022</td><td>2</td><td>1</td></tr><tr><td>3</td><td>C</td><td>2023-06-06</td><td>India</td><td>zomato</td><td>2023</td><td>6</td><td>2</td></tr><tr><td>1</td><td>C</td><td>2023-06-06</td><td>UK</td><td>Swiggy</td><td>2023</td><td>6</td><td>2</td></tr><tr><td>6</td><td>C</td><td>2022-06-11</td><td>UK</td><td>zomato</td><td>2022</td><td>6</td><td>2</td></tr><tr><td>3</td><td>D</td><td>2023-02-16</td><td>UK</td><td>Restaurant</td><td>2023</td><td>2</td><td>1</td></tr><tr><td>5</td><td>D</td><td>2022-02-06</td><td>UK</td><td>zomato</td><td>2022</td><td>2</td><td>1</td></tr><tr><td>3</td><td>E</td><td>2023-02-06</td><td>UK</td><td>Restaurant</td><td>2023</td><td>2</td><td>1</td></tr><tr><td>4</td><td>E</td><td>2023-02-06</td><td>UK</td><td>Swiggy</td><td>2023</td><td>2</td><td>1</td></tr><tr><td>4</td><td>E</td><td>2023-02-11</td><td>UK</td><td>Restaurant</td><td>2023</td><td>2</td><td>1</td></tr><tr><td>2</td><td>A</td><td>2022-06-06</td><td>UK</td><td>Swiggy</td><td>2022</td><td>6</td><td>2</td></tr><tr><td>2</td><td>A</td><td>2023-06-11</td><td>UK</td><td>Swiggy</td><td>2023</td><td>6</td><td>2</td></tr><tr><td>3</td><td>A</td><td>2023-06-10</td><td>UK</td><td>Restaurant</td><td>2023</td><td>6</td><td>2</td></tr><tr><td>3</td><td>A</td><td>2022-06-11</td><td>UK</td><td>Swiggy</td><td>2022</td><td>6</td><td>2</td></tr><tr><td>3</td><td>A</td><td>2023-06-11</td><td>UK</td><td>zomato</td><td>2023</td><td>6</td><td>2</td></tr><tr><td>2</td><td>B</td><td>2022-11-06</td><td>UK</td><td>zomato</td><td>2022</td><td>11</td><td>4</td></tr><tr><td>2</td><td>B</td><td>2023-06-02</td><td>UK</td><td>zomato</td><td>2023</td><td>6</td><td>2</td></tr><tr><td>1</td><td>B</td><td>2023-06-04</td><td>UK</td><td>Swiggy</td><td>2023</td><td>6</td><td>2</td></tr><tr><td>1</td><td>B</td><td>2023-11-11</td><td>UK</td><td>Restaurant</td><td>2023</td><td>11</td><td>4</td></tr><tr><td>3</td><td>B</td><td>2023-06-16</td><td>UK</td><td>Swiggy</td><td>2023</td><td>6</td><td>2</td></tr><tr><td>3</td><td>B</td><td>2023-11-06</td><td>UK</td><td>Swiggy</td><td>2023</td><td>11</td><td>4</td></tr><tr><td>3</td><td>C</td><td>2023-06-06</td><td>UK</td><td>Restaurant</td><td>2023</td><td>6</td><td>2</td></tr><tr><td>1</td><td>C</td><td>2023-06-06</td><td>USA</td><td>Swiggy</td><td>2023</td><td>6</td><td>2</td></tr><tr><td>6</td><td>C</td><td>2023-06-11</td><td>USA</td><td>zomato</td><td>2023</td><td>6</td><td>2</td></tr><tr><td>3</td><td>D</td><td>2022-11-16</td><td>USA</td><td>zomato</td><td>2022</td><td>11</td><td>4</td></tr><tr><td>5</td><td>D</td><td>2023-11-06</td><td>USA</td><td>zomato</td><td>2023</td><td>11</td><td>4</td></tr><tr><td>3</td><td>E</td><td>2023-11-06</td><td>USA</td><td>Swiggy</td><td>2023</td><td>11</td><td>4</td></tr><tr><td>4</td><td>E</td><td>2022-11-06</td><td>USA</td><td>zomato</td><td>2022</td><td>11</td><td>4</td></tr><tr><td>4</td><td>E</td><td>2023-11-11</td><td>USA</td><td>zomato</td><td>2023</td><td>11</td><td>4</td></tr></tbody></table></div>"
      ]
     },
     "metadata": {
      "application/vnd.databricks.v1+output": {
       "addedWidgets": {},
       "aggData": [],
       "aggError": "",
       "aggOverflow": false,
       "aggSchema": [],
       "aggSeriesLimitReached": false,
       "aggType": "",
       "arguments": {},
       "columnCustomDisplayInfos": {},
       "data": [
        [
         1,
         "A",
         "2023-01-01",
         "India",
         "Swiggy",
         2023,
         1,
         1
        ],
        [
         2,
         "A",
         "2022-01-01",
         "India",
         "Swiggy",
         2022,
         1,
         1
        ],
        [
         2,
         "A",
         "2023-01-07",
         "India",
         "Swiggy",
         2023,
         1,
         1
        ],
        [
         3,
         "A",
         "2023-01-10",
         "India",
         "Restaurant",
         2023,
         1,
         1
        ],
        [
         3,
         "A",
         "2022-01-11",
         "India",
         "Swiggy",
         2022,
         1,
         1
        ],
        [
         3,
         "A",
         "2023-01-11",
         "India",
         "Restaurant",
         2023,
         1,
         1
        ],
        [
         2,
         "B",
         "2022-02-01",
         "India",
         "Swiggy",
         2022,
         2,
         1
        ],
        [
         2,
         "B",
         "2023-01-02",
         "India",
         "Swiggy",
         2023,
         1,
         1
        ],
        [
         1,
         "B",
         "2023-01-04",
         "India",
         "Restaurant",
         2023,
         1,
         1
        ],
        [
         1,
         "B",
         "2023-02-11",
         "India",
         "Swiggy",
         2023,
         2,
         1
        ],
        [
         3,
         "B",
         "2023-01-16",
         "India",
         "zomato",
         2023,
         1,
         1
        ],
        [
         3,
         "B",
         "2022-02-01",
         "India",
         "zomato",
         2022,
         2,
         1
        ],
        [
         3,
         "C",
         "2023-01-01",
         "India",
         "zomato",
         2023,
         1,
         1
        ],
        [
         1,
         "C",
         "2023-01-01",
         "UK",
         "Swiggy",
         2023,
         1,
         1
        ],
        [
         6,
         "C",
         "2022-01-07",
         "UK",
         "zomato",
         2022,
         1,
         1
        ],
        [
         3,
         "D",
         "2023-02-16",
         "UK",
         "Restaurant",
         2023,
         2,
         1
        ],
        [
         5,
         "D",
         "2022-02-01",
         "UK",
         "zomato",
         2022,
         2,
         1
        ],
        [
         3,
         "E",
         "2023-02-01",
         "UK",
         "Restaurant",
         2023,
         2,
         1
        ],
        [
         4,
         "E",
         "2023-02-01",
         "UK",
         "Swiggy",
         2023,
         2,
         1
        ],
        [
         4,
         "E",
         "2023-02-07",
         "UK",
         "Restaurant",
         2023,
         2,
         1
        ],
        [
         2,
         "A",
         "2022-01-01",
         "UK",
         "Swiggy",
         2022,
         1,
         1
        ],
        [
         2,
         "A",
         "2023-01-07",
         "UK",
         "Swiggy",
         2023,
         1,
         1
        ],
        [
         3,
         "A",
         "2023-01-10",
         "UK",
         "Restaurant",
         2023,
         1,
         1
        ],
        [
         3,
         "A",
         "2022-01-11",
         "UK",
         "Swiggy",
         2022,
         1,
         1
        ],
        [
         3,
         "A",
         "2023-01-11",
         "UK",
         "zomato",
         2023,
         1,
         1
        ],
        [
         2,
         "B",
         "2022-03-01",
         "UK",
         "zomato",
         2022,
         3,
         1
        ],
        [
         2,
         "B",
         "2023-01-02",
         "UK",
         "zomato",
         2023,
         1,
         1
        ],
        [
         1,
         "B",
         "2023-01-04",
         "UK",
         "Swiggy",
         2023,
         1,
         1
        ],
        [
         1,
         "B",
         "2023-03-11",
         "UK",
         "Restaurant",
         2023,
         3,
         1
        ],
        [
         3,
         "B",
         "2023-01-16",
         "UK",
         "Swiggy",
         2023,
         1,
         1
        ],
        [
         3,
         "B",
         "2023-03-01",
         "UK",
         "Swiggy",
         2023,
         3,
         1
        ],
        [
         3,
         "C",
         "2023-01-01",
         "UK",
         "Restaurant",
         2023,
         1,
         1
        ],
        [
         1,
         "C",
         "2023-01-01",
         "USA",
         "Swiggy",
         2023,
         1,
         1
        ],
        [
         6,
         "C",
         "2023-01-07",
         "USA",
         "zomato",
         2023,
         1,
         1
        ],
        [
         3,
         "D",
         "2022-03-16",
         "USA",
         "zomato",
         2022,
         3,
         1
        ],
        [
         5,
         "D",
         "2023-03-01",
         "USA",
         "zomato",
         2023,
         3,
         1
        ],
        [
         3,
         "E",
         "2023-03-01",
         "USA",
         "Swiggy",
         2023,
         3,
         1
        ],
        [
         4,
         "E",
         "2022-03-01",
         "USA",
         "zomato",
         2022,
         3,
         1
        ],
        [
         4,
         "E",
         "2023-03-07",
         "USA",
         "zomato",
         2023,
         3,
         1
        ],
        [
         1,
         "A",
         "2023-05-05",
         "India",
         "Swiggy",
         2023,
         5,
         2
        ],
        [
         2,
         "A",
         "2022-05-05",
         "India",
         "Swiggy",
         2022,
         5,
         2
        ],
        [
         2,
         "A",
         "2023-05-07",
         "India",
         "Swiggy",
         2023,
         5,
         2
        ],
        [
         3,
         "A",
         "2023-05-10",
         "India",
         "Restaurant",
         2023,
         5,
         2
        ],
        [
         3,
         "A",
         "2022-05-11",
         "India",
         "Swiggy",
         2022,
         5,
         2
        ],
        [
         3,
         "A",
         "2023-05-11",
         "India",
         "Restaurant",
         2023,
         5,
         2
        ],
        [
         2,
         "B",
         "2022-02-05",
         "India",
         "Swiggy",
         2022,
         2,
         1
        ],
        [
         2,
         "B",
         "2023-05-02",
         "India",
         "Swiggy",
         2023,
         5,
         2
        ],
        [
         1,
         "B",
         "2023-05-04",
         "India",
         "Restaurant",
         2023,
         5,
         2
        ],
        [
         1,
         "B",
         "2023-02-11",
         "India",
         "Swiggy",
         2023,
         2,
         1
        ],
        [
         3,
         "B",
         "2023-05-16",
         "India",
         "zomato",
         2023,
         5,
         2
        ],
        [
         3,
         "B",
         "2022-02-05",
         "India",
         "zomato",
         2022,
         2,
         1
        ],
        [
         3,
         "C",
         "2023-05-05",
         "India",
         "zomato",
         2023,
         5,
         2
        ],
        [
         1,
         "C",
         "2023-05-05",
         "UK",
         "Swiggy",
         2023,
         5,
         2
        ],
        [
         6,
         "C",
         "2022-05-07",
         "UK",
         "zomato",
         2022,
         5,
         2
        ],
        [
         3,
         "D",
         "2023-02-16",
         "UK",
         "Restaurant",
         2023,
         2,
         1
        ],
        [
         5,
         "D",
         "2022-02-05",
         "UK",
         "zomato",
         2022,
         2,
         1
        ],
        [
         3,
         "E",
         "2023-02-05",
         "UK",
         "Restaurant",
         2023,
         2,
         1
        ],
        [
         4,
         "E",
         "2023-02-05",
         "UK",
         "Swiggy",
         2023,
         2,
         1
        ],
        [
         4,
         "E",
         "2023-02-07",
         "UK",
         "Restaurant",
         2023,
         2,
         1
        ],
        [
         2,
         "A",
         "2022-05-05",
         "UK",
         "Swiggy",
         2022,
         5,
         2
        ],
        [
         2,
         "A",
         "2023-05-07",
         "UK",
         "Swiggy",
         2023,
         5,
         2
        ],
        [
         3,
         "A",
         "2023-05-10",
         "UK",
         "Restaurant",
         2023,
         5,
         2
        ],
        [
         3,
         "A",
         "2022-05-11",
         "UK",
         "Swiggy",
         2022,
         5,
         2
        ],
        [
         3,
         "A",
         "2023-05-11",
         "UK",
         "zomato",
         2023,
         5,
         2
        ],
        [
         2,
         "B",
         "2022-07-05",
         "UK",
         "zomato",
         2022,
         7,
         3
        ],
        [
         2,
         "B",
         "2023-05-02",
         "UK",
         "zomato",
         2023,
         5,
         2
        ],
        [
         1,
         "B",
         "2023-05-04",
         "UK",
         "Swiggy",
         2023,
         5,
         2
        ],
        [
         1,
         "B",
         "2023-07-11",
         "UK",
         "Restaurant",
         2023,
         7,
         3
        ],
        [
         3,
         "B",
         "2023-05-16",
         "UK",
         "Swiggy",
         2023,
         5,
         2
        ],
        [
         3,
         "B",
         "2023-07-05",
         "UK",
         "Swiggy",
         2023,
         7,
         3
        ],
        [
         3,
         "C",
         "2023-05-05",
         "UK",
         "Restaurant",
         2023,
         5,
         2
        ],
        [
         1,
         "C",
         "2023-05-05",
         "USA",
         "Swiggy",
         2023,
         5,
         2
        ],
        [
         6,
         "C",
         "2023-05-07",
         "USA",
         "zomato",
         2023,
         5,
         2
        ],
        [
         3,
         "D",
         "2022-07-16",
         "USA",
         "zomato",
         2022,
         7,
         3
        ],
        [
         5,
         "D",
         "2023-07-05",
         "USA",
         "zomato",
         2023,
         7,
         3
        ],
        [
         3,
         "E",
         "2023-07-05",
         "USA",
         "Swiggy",
         2023,
         7,
         3
        ],
        [
         4,
         "E",
         "2022-07-05",
         "USA",
         "zomato",
         2022,
         7,
         3
        ],
        [
         4,
         "E",
         "2023-07-07",
         "USA",
         "zomato",
         2023,
         7,
         3
        ],
        [
         1,
         "A",
         "2023-06-06",
         "India",
         "Swiggy",
         2023,
         6,
         2
        ],
        [
         2,
         "A",
         "2022-06-06",
         "India",
         "Swiggy",
         2022,
         6,
         2
        ],
        [
         2,
         "A",
         "2023-06-11",
         "India",
         "Swiggy",
         2023,
         6,
         2
        ],
        [
         3,
         "A",
         "2023-06-10",
         "India",
         "Restaurant",
         2023,
         6,
         2
        ],
        [
         3,
         "A",
         "2022-06-11",
         "India",
         "Swiggy",
         2022,
         6,
         2
        ],
        [
         3,
         "A",
         "2023-06-11",
         "India",
         "Restaurant",
         2023,
         6,
         2
        ],
        [
         2,
         "B",
         "2022-02-06",
         "India",
         "Swiggy",
         2022,
         2,
         1
        ],
        [
         2,
         "B",
         "2023-06-02",
         "India",
         "Swiggy",
         2023,
         6,
         2
        ],
        [
         1,
         "B",
         "2023-06-04",
         "India",
         "Restaurant",
         2023,
         6,
         2
        ],
        [
         1,
         "B",
         "2023-02-11",
         "India",
         "Swiggy",
         2023,
         2,
         1
        ],
        [
         3,
         "B",
         "2023-06-16",
         "India",
         "zomato",
         2023,
         6,
         2
        ],
        [
         3,
         "B",
         "2022-02-06",
         "India",
         "zomato",
         2022,
         2,
         1
        ],
        [
         3,
         "C",
         "2023-06-06",
         "India",
         "zomato",
         2023,
         6,
         2
        ],
        [
         1,
         "C",
         "2023-06-06",
         "UK",
         "Swiggy",
         2023,
         6,
         2
        ],
        [
         6,
         "C",
         "2022-06-11",
         "UK",
         "zomato",
         2022,
         6,
         2
        ],
        [
         3,
         "D",
         "2023-02-16",
         "UK",
         "Restaurant",
         2023,
         2,
         1
        ],
        [
         5,
         "D",
         "2022-02-06",
         "UK",
         "zomato",
         2022,
         2,
         1
        ],
        [
         3,
         "E",
         "2023-02-06",
         "UK",
         "Restaurant",
         2023,
         2,
         1
        ],
        [
         4,
         "E",
         "2023-02-06",
         "UK",
         "Swiggy",
         2023,
         2,
         1
        ],
        [
         4,
         "E",
         "2023-02-11",
         "UK",
         "Restaurant",
         2023,
         2,
         1
        ],
        [
         2,
         "A",
         "2022-06-06",
         "UK",
         "Swiggy",
         2022,
         6,
         2
        ],
        [
         2,
         "A",
         "2023-06-11",
         "UK",
         "Swiggy",
         2023,
         6,
         2
        ],
        [
         3,
         "A",
         "2023-06-10",
         "UK",
         "Restaurant",
         2023,
         6,
         2
        ],
        [
         3,
         "A",
         "2022-06-11",
         "UK",
         "Swiggy",
         2022,
         6,
         2
        ],
        [
         3,
         "A",
         "2023-06-11",
         "UK",
         "zomato",
         2023,
         6,
         2
        ],
        [
         2,
         "B",
         "2022-11-06",
         "UK",
         "zomato",
         2022,
         11,
         4
        ],
        [
         2,
         "B",
         "2023-06-02",
         "UK",
         "zomato",
         2023,
         6,
         2
        ],
        [
         1,
         "B",
         "2023-06-04",
         "UK",
         "Swiggy",
         2023,
         6,
         2
        ],
        [
         1,
         "B",
         "2023-11-11",
         "UK",
         "Restaurant",
         2023,
         11,
         4
        ],
        [
         3,
         "B",
         "2023-06-16",
         "UK",
         "Swiggy",
         2023,
         6,
         2
        ],
        [
         3,
         "B",
         "2023-11-06",
         "UK",
         "Swiggy",
         2023,
         11,
         4
        ],
        [
         3,
         "C",
         "2023-06-06",
         "UK",
         "Restaurant",
         2023,
         6,
         2
        ],
        [
         1,
         "C",
         "2023-06-06",
         "USA",
         "Swiggy",
         2023,
         6,
         2
        ],
        [
         6,
         "C",
         "2023-06-11",
         "USA",
         "zomato",
         2023,
         6,
         2
        ],
        [
         3,
         "D",
         "2022-11-16",
         "USA",
         "zomato",
         2022,
         11,
         4
        ],
        [
         5,
         "D",
         "2023-11-06",
         "USA",
         "zomato",
         2023,
         11,
         4
        ],
        [
         3,
         "E",
         "2023-11-06",
         "USA",
         "Swiggy",
         2023,
         11,
         4
        ],
        [
         4,
         "E",
         "2022-11-06",
         "USA",
         "zomato",
         2022,
         11,
         4
        ],
        [
         4,
         "E",
         "2023-11-11",
         "USA",
         "zomato",
         2023,
         11,
         4
        ]
       ],
       "datasetInfos": [],
       "dbfsResultPath": null,
       "isJsonSchema": true,
       "metadata": {},
       "overflow": false,
       "plotOptions": {
        "customPlotOptions": {},
        "displayType": "table",
        "pivotAggregation": null,
        "pivotColumns": null,
        "xColumns": null,
        "yColumns": null
       },
       "removedWidgets": [],
       "schema": [
        {
         "metadata": "{}",
         "name": "Product_id",
         "type": "\"integer\""
        },
        {
         "metadata": "{}",
         "name": "Customer_id",
         "type": "\"string\""
        },
        {
         "metadata": "{}",
         "name": "Order_date",
         "type": "\"date\""
        },
        {
         "metadata": "{}",
         "name": "Location",
         "type": "\"string\""
        },
        {
         "metadata": "{}",
         "name": "Source_order",
         "type": "\"string\""
        },
        {
         "metadata": "{}",
         "name": "Order_yearly",
         "type": "\"integer\""
        },
        {
         "metadata": "{}",
         "name": "Order_monthly",
         "type": "\"integer\""
        },
        {
         "metadata": "{}",
         "name": "Order_quaterly",
         "type": "\"integer\""
        }
       ],
       "type": "table"
      }
     },
     "output_type": "display_data"
    }
   ],
   "source": [
    "sales_df = sales_df.withColumn(\"Order_monthly\",month(sales_df.Order_date))\n",
    "sales_df = sales_df.withColumn(\"Order_quaterly\",quarter(sales_df.Order_date))\n",
    "display(sales_df)"
   ]
  },
  {
   "cell_type": "markdown",
   "metadata": {
    "application/vnd.databricks.v1+cell": {
     "cellMetadata": {},
     "inputWidgets": {},
     "nuid": "b5bf3dcf-1dcc-44ef-ab1c-15f3dfff6673",
     "showTitle": false,
     "tableResultSettingsMap": {},
     "title": ""
    }
   },
   "source": [
    "### Menu dataframe\n"
   ]
  },
  {
   "cell_type": "code",
   "execution_count": 0,
   "metadata": {
    "application/vnd.databricks.v1+cell": {
     "cellMetadata": {
      "byteLimit": 2048000,
      "rowLimit": 10000
     },
     "inputWidgets": {},
     "nuid": "348990be-a484-42f8-a317-8ded309e8819",
     "showTitle": false,
     "tableResultSettingsMap": {},
     "title": ""
    }
   },
   "outputs": [
    {
     "output_type": "display_data",
     "data": {
      "text/html": [
       "<style scoped>\n",
       "  .table-result-container {\n",
       "    max-height: 300px;\n",
       "    overflow: auto;\n",
       "  }\n",
       "  table, th, td {\n",
       "    border: 1px solid black;\n",
       "    border-collapse: collapse;\n",
       "  }\n",
       "  th, td {\n",
       "    padding: 5px;\n",
       "  }\n",
       "  th {\n",
       "    text-align: left;\n",
       "  }\n",
       "</style><div class='table-result-container'><table class='table-result'><thead style='background-color: white'><tr><th>Product_id</th><th>Product_name</th><th>Price</th></tr></thead><tbody><tr><td>1</td><td> PIZZA</td><td> 100</td></tr><tr><td>2</td><td> Chowmin</td><td> 150</td></tr><tr><td>3</td><td> sandwich</td><td> 120</td></tr><tr><td>4</td><td> Dosa</td><td> 110</td></tr><tr><td>5</td><td> Biryani</td><td> 80</td></tr><tr><td>6</td><td> Pasta</td><td> 180</td></tr></tbody></table></div>"
      ]
     },
     "metadata": {
      "application/vnd.databricks.v1+output": {
       "addedWidgets": {},
       "aggData": [],
       "aggError": "",
       "aggOverflow": false,
       "aggSchema": [],
       "aggSeriesLimitReached": false,
       "aggType": "",
       "arguments": {},
       "columnCustomDisplayInfos": {},
       "data": [
        [
         1,
         " PIZZA",
         " 100"
        ],
        [
         2,
         " Chowmin",
         " 150"
        ],
        [
         3,
         " sandwich",
         " 120"
        ],
        [
         4,
         " Dosa",
         " 110"
        ],
        [
         5,
         " Biryani",
         " 80"
        ],
        [
         6,
         " Pasta",
         " 180"
        ]
       ],
       "datasetInfos": [],
       "dbfsResultPath": null,
       "isJsonSchema": true,
       "metadata": {},
       "overflow": false,
       "plotOptions": {
        "customPlotOptions": {},
        "displayType": "table",
        "pivotAggregation": null,
        "pivotColumns": null,
        "xColumns": null,
        "yColumns": null
       },
       "removedWidgets": [],
       "schema": [
        {
         "metadata": "{}",
         "name": "Product_id",
         "type": "\"integer\""
        },
        {
         "metadata": "{}",
         "name": "Product_name",
         "type": "\"string\""
        },
        {
         "metadata": "{}",
         "name": "Price",
         "type": "\"string\""
        }
       ],
       "type": "table"
      }
     },
     "output_type": "display_data"
    }
   ],
   "source": [
    "from pyspark.sql.types import StructType, StructField, IntegerType, StringType, DateType\n",
    "schema = StructType([\n",
    "  StructField(\"Product_id\",IntegerType(),True),\n",
    "  StructField(\"Product_name\",StringType(),True),\n",
    "  StructField(\"Price\",StringType(),True),\n",
    "])\n",
    "\n",
    "menu_df = spark.read.format(\"csv\").option(\"inferschema\",\"true\").schema(schema).load(\"/FileStore/tables/menu_csv.txt\")\n",
    "display(menu_df)"
   ]
  },
  {
   "cell_type": "markdown",
   "metadata": {
    "application/vnd.databricks.v1+cell": {
     "cellMetadata": {},
     "inputWidgets": {},
     "nuid": "62108393-dbf0-4f6e-9472-c79b4e8c1002",
     "showTitle": false,
     "tableResultSettingsMap": {},
     "title": ""
    }
   },
   "source": [
    "## Extracting insights from KPI\n"
   ]
  },
  {
   "cell_type": "markdown",
   "metadata": {
    "application/vnd.databricks.v1+cell": {
     "cellMetadata": {},
     "inputWidgets": {},
     "nuid": "fcfcfbb3-119c-4517-bfee-99922e3c8fdf",
     "showTitle": false,
     "tableResultSettingsMap": {},
     "title": ""
    }
   },
   "source": [
    "- Total amount spent by each customer"
   ]
  },
  {
   "cell_type": "code",
   "execution_count": 0,
   "metadata": {
    "application/vnd.databricks.v1+cell": {
     "cellMetadata": {
      "byteLimit": 2048000,
      "rowLimit": 10000
     },
     "inputWidgets": {},
     "nuid": "108be254-fd38-4b8f-84e8-f5c11d37e29f",
     "showTitle": false,
     "tableResultSettingsMap": {},
     "title": ""
    }
   },
   "outputs": [
    {
     "output_type": "display_data",
     "data": {
      "text/html": [
       "<style scoped>\n",
       "  .table-result-container {\n",
       "    max-height: 300px;\n",
       "    overflow: auto;\n",
       "  }\n",
       "  table, th, td {\n",
       "    border: 1px solid black;\n",
       "    border-collapse: collapse;\n",
       "  }\n",
       "  th, td {\n",
       "    padding: 5px;\n",
       "  }\n",
       "  th {\n",
       "    text-align: left;\n",
       "  }\n",
       "</style><div class='table-result-container'><table class='table-result'><thead style='background-color: white'><tr><th>Customer_id</th><th>sum(Price)</th></tr></thead><tbody><tr><td>A</td><td>4260.0</td></tr><tr><td>B</td><td>4440.0</td></tr><tr><td>C</td><td>2400.0</td></tr><tr><td>D</td><td>1200.0</td></tr><tr><td>E</td><td>2040.0</td></tr></tbody></table></div>"
      ]
     },
     "metadata": {
      "application/vnd.databricks.v1+output": {
       "addedWidgets": {},
       "aggData": [],
       "aggError": "",
       "aggOverflow": false,
       "aggSchema": [],
       "aggSeriesLimitReached": false,
       "aggType": "",
       "arguments": {},
       "columnCustomDisplayInfos": {},
       "data": [
        [
         "A",
         4260.0
        ],
        [
         "B",
         4440.0
        ],
        [
         "C",
         2400.0
        ],
        [
         "D",
         1200.0
        ],
        [
         "E",
         2040.0
        ]
       ],
       "datasetInfos": [],
       "dbfsResultPath": null,
       "isJsonSchema": true,
       "metadata": {},
       "overflow": false,
       "plotOptions": {
        "customPlotOptions": {},
        "displayType": "table",
        "pivotAggregation": null,
        "pivotColumns": null,
        "xColumns": null,
        "yColumns": null
       },
       "removedWidgets": [],
       "schema": [
        {
         "metadata": "{}",
         "name": "Customer_id",
         "type": "\"string\""
        },
        {
         "metadata": "{}",
         "name": "sum(Price)",
         "type": "\"double\""
        }
       ],
       "type": "table"
      }
     },
     "output_type": "display_data"
    },
    {
     "output_type": "display_data",
     "data": {
      "text/plain": [
       "Databricks visualization. Run in Databricks to view."
      ]
     },
     "metadata": {
      "application/vnd.databricks.v1.subcommand+json": {
       "baseErrorDetails": null,
       "bindings": {},
       "collapsed": false,
       "command": "%python\n__backend_agg_display_orig = display\n__backend_agg_dfs = []\ndef __backend_agg_display_new(df):\n    __backend_agg_df_modules = [\"pandas.core.frame\", \"databricks.koalas.frame\", \"pyspark.sql.dataframe\", \"pyspark.pandas.frame\", \"pyspark.sql.connect.dataframe\"]\n    if (type(df).__module__ in __backend_agg_df_modules and type(df).__name__ == 'DataFrame') or isinstance(df, list):\n        __backend_agg_dfs.append(df)\n\ndisplay = __backend_agg_display_new\n\ndef __backend_agg_user_code_fn():\n    import base64\n    exec(base64.standard_b64decode(\"QW1vdW50U3BlbnRCeUN1c3RvbWVyID0gKHNhbGVzX2RmLmpvaW4obWVudV9kZiwnUHJvZHVjdF9pZCcpLmdyb3VwQnkoJ0N1c3RvbWVyX2lkJykuYWdnKHsnUHJpY2UnOidzdW0nfSkub3JkZXJCeSgnQ3VzdG9tZXJfaWQnKSkKCmRpc3BsYXkoQW1vdW50U3BlbnRCeUN1c3RvbWVyKQ==\").decode())\n\ntry:\n    # run user code\n    __backend_agg_user_code_fn()\n\n    #reset display function\n    display = __backend_agg_display_orig\n\n    if len(__backend_agg_dfs) > 0:\n        # create a temp view\n        if type(__backend_agg_dfs[0]).__module__ == \"databricks.koalas.frame\":\n            # koalas dataframe\n            __backend_agg_dfs[0].to_spark().createOrReplaceTempView(\"DatabricksView0d7e99e\")\n        elif type(__backend_agg_dfs[0]).__module__ == \"pandas.core.frame\" or isinstance(__backend_agg_dfs[0], list):\n            # pandas dataframe\n            spark.createDataFrame(__backend_agg_dfs[0]).createOrReplaceTempView(\"DatabricksView0d7e99e\")\n        else:\n            __backend_agg_dfs[0].createOrReplaceTempView(\"DatabricksView0d7e99e\")\n        #run backend agg\n        display(spark.sql(\"\"\"WITH q AS (select * from DatabricksView0d7e99e) SELECT `Customer_id`,SUM(`sum(Price)`) `column_9460c9a975` FROM q GROUP BY `Customer_id`\"\"\"))\n    else:\n        displayHTML(\"dataframe no longer exists. If you're using dataframe.display(), use display(dataframe) instead.\")\n\n\nfinally:\n    spark.sql(\"drop view if exists DatabricksView0d7e99e\")\n    display = __backend_agg_display_orig\n    del __backend_agg_display_new\n    del __backend_agg_display_orig\n    del __backend_agg_dfs\n    del __backend_agg_user_code_fn\n\n",
       "commandTitle": "Visualization 1",
       "commandType": "auto",
       "commandVersion": 0,
       "commentThread": [],
       "commentsVisible": false,
       "contentSha256Hex": null,
       "customPlotOptions": {
        "redashChart": [
         {
          "key": "type",
          "value": "CHART"
         },
         {
          "key": "options",
          "value": {
           "alignYAxesAtZero": true,
           "coefficient": 1,
           "columnConfigurationMap": {
            "x": {
             "column": "Customer_id",
             "id": "column_9460c9a974"
            },
            "y": [
             {
              "column": "sum(Price)",
              "id": "column_9460c9a975",
              "transform": "SUM"
             }
            ]
           },
           "dateTimeFormat": "DD/MM/YYYY HH:mm",
           "direction": {
            "type": "counterclockwise"
           },
           "error_y": {
            "type": "data",
            "visible": true
           },
           "globalSeriesType": "pie",
           "legend": {
            "traceorder": "normal"
           },
           "missingValuesAsZero": true,
           "numberFormat": "0,0.[00000]",
           "percentFormat": "0[.]00%",
           "series": {
            "error_y": {
             "type": "data",
             "visible": true
            },
            "stacking": null
           },
           "seriesOptions": {
            "column_9460c9a975": {
             "name": "sum(Price)",
             "type": "pie",
             "yAxis": 0
            }
           },
           "showDataLabels": true,
           "sizemode": "diameter",
           "sortX": true,
           "sortY": true,
           "swappedAxes": false,
           "textFormat": "",
           "useAggregationsUi": true,
           "valuesOptions": {},
           "version": 2,
           "xAxis": {
            "labels": {
             "enabled": true
            },
            "type": "-"
           },
           "yAxis": [
            {
             "type": "-"
            },
            {
             "opposite": true,
             "type": "-"
            }
           ]
          }
         }
        ]
       },
       "datasetPreviewNameToCmdIdMap": {},
       "diffDeletes": [],
       "diffInserts": [],
       "displayType": "redashChart",
       "error": null,
       "errorDetails": null,
       "errorSummary": null,
       "errorTraceType": null,
       "finishTime": 0,
       "globalVars": {},
       "guid": "",
       "height": "auto",
       "hideCommandCode": false,
       "hideCommandResult": false,
       "iPythonMetadata": null,
       "inputWidgets": {},
       "isLockedInExamMode": false,
       "latestUser": "a user",
       "latestUserId": null,
       "listResultMetadata": null,
       "metadata": {},
       "nuid": "ef60c5f6-1890-40aa-b228-f48c1bfd42bc",
       "origId": 0,
       "parentHierarchy": [],
       "pivotAggregation": null,
       "pivotColumns": null,
       "position": 10.0,
       "resultDbfsErrorMessage": null,
       "resultDbfsStatus": "INLINED_IN_TREE",
       "results": null,
       "showCommandTitle": false,
       "startTime": 0,
       "state": "input",
       "streamStates": {},
       "subcommandOptions": {
        "queryPlan": {
         "groups": [
          {
           "column": "Customer_id",
           "type": "column"
          }
         ],
         "selects": [
          {
           "column": "Customer_id",
           "type": "column"
          },
          {
           "alias": "column_9460c9a975",
           "args": [
            {
             "column": "sum(Price)",
             "type": "column"
            }
           ],
           "function": "SUM",
           "type": "function"
          }
         ]
        }
       },
       "submitTime": 0,
       "subtype": "tableResultSubCmd.visualization",
       "tableResultIndex": 0,
       "tableResultSettingsMap": {},
       "useConsistentColors": false,
       "version": "CommandV1",
       "width": "auto",
       "workflows": [],
       "xColumns": null,
       "yColumns": null
      }
     },
     "output_type": "display_data"
    }
   ],
   "source": [
    "AmountSpentByCustomer = (sales_df.join(menu_df,'Product_id').groupBy('Customer_id').agg({'Price':'sum'}).orderBy('Customer_id'))\n",
    "\n",
    "display(AmountSpentByCustomer)"
   ]
  },
  {
   "cell_type": "markdown",
   "metadata": {
    "application/vnd.databricks.v1+cell": {
     "cellMetadata": {},
     "inputWidgets": {},
     "nuid": "b989e111-698a-47ae-bc16-61f00e025497",
     "showTitle": false,
     "tableResultSettingsMap": {},
     "title": ""
    }
   },
   "source": [
    "- Total amount spent by each food category"
   ]
  },
  {
   "cell_type": "code",
   "execution_count": 0,
   "metadata": {
    "application/vnd.databricks.v1+cell": {
     "cellMetadata": {
      "byteLimit": 2048000,
      "rowLimit": 10000
     },
     "inputWidgets": {},
     "nuid": "23bf2f9c-1cd8-4c97-8dda-e4b9e135bf80",
     "showTitle": false,
     "tableResultSettingsMap": {},
     "title": ""
    }
   },
   "outputs": [
    {
     "output_type": "display_data",
     "data": {
      "text/html": [
       "<style scoped>\n",
       "  .table-result-container {\n",
       "    max-height: 300px;\n",
       "    overflow: auto;\n",
       "  }\n",
       "  table, th, td {\n",
       "    border: 1px solid black;\n",
       "    border-collapse: collapse;\n",
       "  }\n",
       "  th, td {\n",
       "    padding: 5px;\n",
       "  }\n",
       "  th {\n",
       "    text-align: left;\n",
       "  }\n",
       "</style><div class='table-result-container'><table class='table-result'><thead style='background-color: white'><tr><th>Product_name</th><th>sum(Price)</th></tr></thead><tbody><tr><td> Biryani</td><td>480.0</td></tr><tr><td> Chowmin</td><td>3600.0</td></tr><tr><td> Dosa</td><td>1320.0</td></tr><tr><td> PIZZA</td><td>2100.0</td></tr><tr><td> Pasta</td><td>1080.0</td></tr><tr><td> sandwich</td><td>5760.0</td></tr></tbody></table></div>"
      ]
     },
     "metadata": {
      "application/vnd.databricks.v1+output": {
       "addedWidgets": {},
       "aggData": [],
       "aggError": "",
       "aggOverflow": false,
       "aggSchema": [],
       "aggSeriesLimitReached": false,
       "aggType": "",
       "arguments": {},
       "columnCustomDisplayInfos": {},
       "data": [
        [
         " Biryani",
         480.0
        ],
        [
         " Chowmin",
         3600.0
        ],
        [
         " Dosa",
         1320.0
        ],
        [
         " PIZZA",
         2100.0
        ],
        [
         " Pasta",
         1080.0
        ],
        [
         " sandwich",
         5760.0
        ]
       ],
       "datasetInfos": [],
       "dbfsResultPath": null,
       "isJsonSchema": true,
       "metadata": {},
       "overflow": false,
       "plotOptions": {
        "customPlotOptions": {},
        "displayType": "table",
        "pivotAggregation": null,
        "pivotColumns": null,
        "xColumns": null,
        "yColumns": null
       },
       "removedWidgets": [],
       "schema": [
        {
         "metadata": "{}",
         "name": "Product_name",
         "type": "\"string\""
        },
        {
         "metadata": "{}",
         "name": "sum(Price)",
         "type": "\"double\""
        }
       ],
       "type": "table"
      }
     },
     "output_type": "display_data"
    },
    {
     "output_type": "display_data",
     "data": {
      "text/plain": [
       "Databricks visualization. Run in Databricks to view."
      ]
     },
     "metadata": {
      "application/vnd.databricks.v1.subcommand+json": {
       "baseErrorDetails": null,
       "bindings": {},
       "collapsed": false,
       "command": "%python\n__backend_agg_display_orig = display\n__backend_agg_dfs = []\ndef __backend_agg_display_new(df):\n    __backend_agg_df_modules = [\"pandas.core.frame\", \"databricks.koalas.frame\", \"pyspark.sql.dataframe\", \"pyspark.pandas.frame\", \"pyspark.sql.connect.dataframe\"]\n    if (type(df).__module__ in __backend_agg_df_modules and type(df).__name__ == 'DataFrame') or isinstance(df, list):\n        __backend_agg_dfs.append(df)\n\ndisplay = __backend_agg_display_new\n\ndef __backend_agg_user_code_fn():\n    import base64\n    exec(base64.standard_b64decode(\"QW1vdW50U3BlbnRPbkVhY2hGb29kID0gKHNhbGVzX2RmLmpvaW4obWVudV9kZiwnUHJvZHVjdF9pZCcpLmdyb3VwQnkoJ1Byb2R1Y3RfbmFtZScpLmFnZyh7J1ByaWNlJzonc3VtJ30pLm9yZGVyQnkoJ1Byb2R1Y3RfbmFtZScpKQpkaXNwbGF5KEFtb3VudFNwZW50T25FYWNoRm9vZCk=\").decode())\n\ntry:\n    # run user code\n    __backend_agg_user_code_fn()\n\n    #reset display function\n    display = __backend_agg_display_orig\n\n    if len(__backend_agg_dfs) > 0:\n        # create a temp view\n        if type(__backend_agg_dfs[0]).__module__ == \"databricks.koalas.frame\":\n            # koalas dataframe\n            __backend_agg_dfs[0].to_spark().createOrReplaceTempView(\"DatabricksView47bb41e\")\n        elif type(__backend_agg_dfs[0]).__module__ == \"pandas.core.frame\" or isinstance(__backend_agg_dfs[0], list):\n            # pandas dataframe\n            spark.createDataFrame(__backend_agg_dfs[0]).createOrReplaceTempView(\"DatabricksView47bb41e\")\n        else:\n            __backend_agg_dfs[0].createOrReplaceTempView(\"DatabricksView47bb41e\")\n        #run backend agg\n        display(spark.sql(\"\"\"WITH q AS (select * from DatabricksView47bb41e) SELECT `Product_name`,SUM(`sum(Price)`) `column_9460c9a978` FROM q GROUP BY `Product_name`\"\"\"))\n    else:\n        displayHTML(\"dataframe no longer exists. If you're using dataframe.display(), use display(dataframe) instead.\")\n\n\nfinally:\n    spark.sql(\"drop view if exists DatabricksView47bb41e\")\n    display = __backend_agg_display_orig\n    del __backend_agg_display_new\n    del __backend_agg_display_orig\n    del __backend_agg_dfs\n    del __backend_agg_user_code_fn\n\n",
       "commandTitle": "Visualization 1",
       "commandType": "auto",
       "commandVersion": 0,
       "commentThread": [],
       "commentsVisible": false,
       "contentSha256Hex": null,
       "customPlotOptions": {
        "redashChart": [
         {
          "key": "type",
          "value": "CHART"
         },
         {
          "key": "options",
          "value": {
           "alignYAxesAtZero": true,
           "coefficient": 1,
           "columnConfigurationMap": {
            "x": {
             "column": "Product_name",
             "id": "column_9460c9a977"
            },
            "y": [
             {
              "column": "sum(Price)",
              "id": "column_9460c9a978",
              "transform": "SUM"
             }
            ]
           },
           "dateTimeFormat": "DD/MM/YYYY HH:mm",
           "direction": {
            "type": "counterclockwise"
           },
           "error_y": {
            "type": "data",
            "visible": true
           },
           "globalSeriesType": "column",
           "isAggregationOn": true,
           "legend": {
            "traceorder": "normal"
           },
           "missingValuesAsZero": true,
           "numberFormat": "0,0.[00000]",
           "percentFormat": "0[.]00%",
           "series": {
            "error_y": {
             "type": "data",
             "visible": true
            },
            "stacking": null
           },
           "seriesOptions": {
            "column_9460c9a978": {
             "color": "#17BF51",
             "name": "sum(Price)",
             "yAxis": 0
            }
           },
           "showDataLabels": true,
           "sizemode": "diameter",
           "sortX": true,
           "sortY": true,
           "swappedAxes": true,
           "textFormat": "",
           "useAggregationsUi": true,
           "valuesOptions": {},
           "version": 2,
           "xAxis": {
            "labels": {
             "enabled": true
            },
            "type": "-"
           },
           "yAxis": [
            {
             "type": "-"
            },
            {
             "opposite": true,
             "type": "-"
            }
           ]
          }
         }
        ]
       },
       "datasetPreviewNameToCmdIdMap": {},
       "diffDeletes": [],
       "diffInserts": [],
       "displayType": "redashChart",
       "error": null,
       "errorDetails": null,
       "errorSummary": null,
       "errorTraceType": null,
       "finishTime": 0,
       "globalVars": {},
       "guid": "",
       "height": "406",
       "hideCommandCode": false,
       "hideCommandResult": false,
       "iPythonMetadata": null,
       "inputWidgets": {},
       "isLockedInExamMode": false,
       "latestUser": "a user",
       "latestUserId": null,
       "listResultMetadata": null,
       "metadata": {},
       "nuid": "a2cf7df7-3186-4754-bb26-941c905be755",
       "origId": 0,
       "parentHierarchy": [],
       "pivotAggregation": null,
       "pivotColumns": null,
       "position": 12.0,
       "resultDbfsErrorMessage": null,
       "resultDbfsStatus": "INLINED_IN_TREE",
       "results": null,
       "showCommandTitle": false,
       "startTime": 0,
       "state": "input",
       "streamStates": {},
       "subcommandOptions": {
        "queryPlan": {
         "groups": [
          {
           "column": "Product_name",
           "type": "column"
          }
         ],
         "selects": [
          {
           "column": "Product_name",
           "type": "column"
          },
          {
           "alias": "column_9460c9a978",
           "args": [
            {
             "column": "sum(Price)",
             "type": "column"
            }
           ],
           "function": "SUM",
           "type": "function"
          }
         ]
        }
       },
       "submitTime": 0,
       "subtype": "tableResultSubCmd.visualization",
       "tableResultIndex": 0,
       "tableResultSettingsMap": {},
       "useConsistentColors": false,
       "version": "CommandV1",
       "width": "929",
       "workflows": [],
       "xColumns": null,
       "yColumns": null
      }
     },
     "output_type": "display_data"
    }
   ],
   "source": [
    "AmountSpentOnEachFood = (sales_df.join(menu_df,'Product_id').groupBy('Product_name').agg({'Price':'sum'}).orderBy('Product_name'))\n",
    "display(AmountSpentOnEachFood)"
   ]
  },
  {
   "cell_type": "markdown",
   "metadata": {
    "application/vnd.databricks.v1+cell": {
     "cellMetadata": {},
     "inputWidgets": {},
     "nuid": "f7e48286-e57e-4bf5-b6ca-776fb1c5136f",
     "showTitle": false,
     "tableResultSettingsMap": {},
     "title": ""
    }
   },
   "source": [
    "- Total amount of sales in each month"
   ]
  },
  {
   "cell_type": "code",
   "execution_count": 0,
   "metadata": {
    "application/vnd.databricks.v1+cell": {
     "cellMetadata": {
      "byteLimit": 2048000,
      "rowLimit": 10000
     },
     "inputWidgets": {},
     "nuid": "36681d02-b433-4970-ba4a-13038e93e1be",
     "showTitle": false,
     "tableResultSettingsMap": {},
     "title": ""
    }
   },
   "outputs": [
    {
     "output_type": "display_data",
     "data": {
      "text/html": [
       "<style scoped>\n",
       "  .table-result-container {\n",
       "    max-height: 300px;\n",
       "    overflow: auto;\n",
       "  }\n",
       "  table, th, td {\n",
       "    border: 1px solid black;\n",
       "    border-collapse: collapse;\n",
       "  }\n",
       "  th, td {\n",
       "    padding: 5px;\n",
       "  }\n",
       "  th {\n",
       "    text-align: left;\n",
       "  }\n",
       "</style><div class='table-result-container'><table class='table-result'><thead style='background-color: white'><tr><th>Order_monthly</th><th>sum(Price)</th></tr></thead><tbody><tr><td>1</td><td>2960.0</td></tr><tr><td>2</td><td>2730.0</td></tr><tr><td>3</td><td>910.0</td></tr><tr><td>5</td><td>2960.0</td></tr><tr><td>6</td><td>2960.0</td></tr><tr><td>7</td><td>910.0</td></tr><tr><td>11</td><td>910.0</td></tr></tbody></table></div>"
      ]
     },
     "metadata": {
      "application/vnd.databricks.v1+output": {
       "addedWidgets": {},
       "aggData": [],
       "aggError": "",
       "aggOverflow": false,
       "aggSchema": [],
       "aggSeriesLimitReached": false,
       "aggType": "",
       "arguments": {},
       "columnCustomDisplayInfos": {},
       "data": [
        [
         1,
         2960.0
        ],
        [
         2,
         2730.0
        ],
        [
         3,
         910.0
        ],
        [
         5,
         2960.0
        ],
        [
         6,
         2960.0
        ],
        [
         7,
         910.0
        ],
        [
         11,
         910.0
        ]
       ],
       "datasetInfos": [],
       "dbfsResultPath": null,
       "isJsonSchema": true,
       "metadata": {},
       "overflow": false,
       "plotOptions": {
        "customPlotOptions": {},
        "displayType": "table",
        "pivotAggregation": null,
        "pivotColumns": null,
        "xColumns": null,
        "yColumns": null
       },
       "removedWidgets": [],
       "schema": [
        {
         "metadata": "{}",
         "name": "Order_monthly",
         "type": "\"integer\""
        },
        {
         "metadata": "{}",
         "name": "sum(Price)",
         "type": "\"double\""
        }
       ],
       "type": "table"
      }
     },
     "output_type": "display_data"
    },
    {
     "output_type": "display_data",
     "data": {
      "text/plain": [
       "Databricks visualization. Run in Databricks to view."
      ]
     },
     "metadata": {
      "application/vnd.databricks.v1.subcommand+json": {
       "baseErrorDetails": null,
       "bindings": {},
       "collapsed": false,
       "command": "%python\n__backend_agg_display_orig = display\n__backend_agg_dfs = []\ndef __backend_agg_display_new(df):\n    __backend_agg_df_modules = [\"pandas.core.frame\", \"databricks.koalas.frame\", \"pyspark.sql.dataframe\", \"pyspark.pandas.frame\", \"pyspark.sql.connect.dataframe\"]\n    if (type(df).__module__ in __backend_agg_df_modules and type(df).__name__ == 'DataFrame') or isinstance(df, list):\n        __backend_agg_dfs.append(df)\n\ndisplay = __backend_agg_display_new\n\ndef __backend_agg_user_code_fn():\n    import base64\n    exec(base64.standard_b64decode(\"VG90YWxTYWxlc0VhY2hNb250aCA9IChzYWxlc19kZi5qb2luKG1lbnVfZGYsJ1Byb2R1Y3RfaWQnKS5ncm91cEJ5KCdPcmRlcl9tb250aGx5JykuYWdnKHsnUHJpY2UnOidzdW0nfSkub3JkZXJCeSgnT3JkZXJfbW9udGhseScpKQpkaXNwbGF5KFRvdGFsU2FsZXNFYWNoTW9udGgp\").decode())\n\ntry:\n    # run user code\n    __backend_agg_user_code_fn()\n\n    #reset display function\n    display = __backend_agg_display_orig\n\n    if len(__backend_agg_dfs) > 0:\n        # create a temp view\n        if type(__backend_agg_dfs[0]).__module__ == \"databricks.koalas.frame\":\n            # koalas dataframe\n            __backend_agg_dfs[0].to_spark().createOrReplaceTempView(\"DatabricksViewb148e56\")\n        elif type(__backend_agg_dfs[0]).__module__ == \"pandas.core.frame\" or isinstance(__backend_agg_dfs[0], list):\n            # pandas dataframe\n            spark.createDataFrame(__backend_agg_dfs[0]).createOrReplaceTempView(\"DatabricksViewb148e56\")\n        else:\n            __backend_agg_dfs[0].createOrReplaceTempView(\"DatabricksViewb148e56\")\n        #run backend agg\n        display(spark.sql(\"\"\"WITH q AS (select * from DatabricksViewb148e56) SELECT `Order_monthly`,SUM(`sum(Price)`) `column_9460c9a983` FROM q GROUP BY `Order_monthly`\"\"\"))\n    else:\n        displayHTML(\"dataframe no longer exists. If you're using dataframe.display(), use display(dataframe) instead.\")\n\n\nfinally:\n    spark.sql(\"drop view if exists DatabricksViewb148e56\")\n    display = __backend_agg_display_orig\n    del __backend_agg_display_new\n    del __backend_agg_display_orig\n    del __backend_agg_dfs\n    del __backend_agg_user_code_fn\n\n",
       "commandTitle": "Visualization 2",
       "commandType": "auto",
       "commandVersion": 0,
       "commentThread": [],
       "commentsVisible": false,
       "contentSha256Hex": null,
       "customPlotOptions": {
        "redashChart": [
         {
          "key": "type",
          "value": "CHART"
         },
         {
          "key": "options",
          "value": {
           "alignYAxesAtZero": true,
           "coefficient": 1,
           "columnConfigurationMap": {
            "x": {
             "column": "Order_monthly",
             "id": "column_9460c9a982"
            },
            "y": [
             {
              "column": "sum(Price)",
              "id": "column_9460c9a983",
              "transform": "SUM"
             }
            ]
           },
           "dateTimeFormat": "DD/MM/YYYY HH:mm",
           "direction": {
            "type": "counterclockwise"
           },
           "error_y": {
            "type": "data",
            "visible": true
           },
           "globalSeriesType": "line",
           "isAggregationOn": true,
           "legend": {
            "traceorder": "normal"
           },
           "missingValuesAsZero": true,
           "numberFormat": "0,0.[00000]",
           "percentFormat": "0[.]00%",
           "series": {
            "error_y": {
             "type": "data",
             "visible": true
            },
            "stacking": null
           },
           "seriesOptions": {
            "column_9460c9a983": {
             "name": "sum(Price)",
             "type": "line",
             "yAxis": 0
            }
           },
           "showDataLabels": true,
           "sizemode": "diameter",
           "sortX": true,
           "sortY": true,
           "swappedAxes": false,
           "textFormat": "",
           "useAggregationsUi": true,
           "valuesOptions": {},
           "version": 2,
           "xAxis": {
            "labels": {
             "enabled": true
            },
            "type": "-"
           },
           "yAxis": [
            {
             "type": "-"
            },
            {
             "opposite": true,
             "type": "-"
            }
           ]
          }
         }
        ]
       },
       "datasetPreviewNameToCmdIdMap": {},
       "diffDeletes": [],
       "diffInserts": [],
       "displayType": "redashChart",
       "error": null,
       "errorDetails": null,
       "errorSummary": null,
       "errorTraceType": null,
       "finishTime": 0,
       "globalVars": {},
       "guid": "",
       "height": "auto",
       "hideCommandCode": false,
       "hideCommandResult": false,
       "iPythonMetadata": null,
       "inputWidgets": {},
       "isLockedInExamMode": false,
       "latestUser": "a user",
       "latestUserId": null,
       "listResultMetadata": null,
       "metadata": {},
       "nuid": "cb7d1dfe-f7ca-4e01-ae46-12dcfd49b0da",
       "origId": 0,
       "parentHierarchy": [],
       "pivotAggregation": null,
       "pivotColumns": null,
       "position": 15.0,
       "resultDbfsErrorMessage": null,
       "resultDbfsStatus": "INLINED_IN_TREE",
       "results": null,
       "showCommandTitle": false,
       "startTime": 0,
       "state": "input",
       "streamStates": {},
       "subcommandOptions": {
        "queryPlan": {
         "groups": [
          {
           "column": "Order_monthly",
           "type": "column"
          }
         ],
         "selects": [
          {
           "column": "Order_monthly",
           "type": "column"
          },
          {
           "alias": "column_9460c9a983",
           "args": [
            {
             "column": "sum(Price)",
             "type": "column"
            }
           ],
           "function": "SUM",
           "type": "function"
          }
         ]
        }
       },
       "submitTime": 0,
       "subtype": "tableResultSubCmd.visualization",
       "tableResultIndex": 0,
       "tableResultSettingsMap": {},
       "useConsistentColors": false,
       "version": "CommandV1",
       "width": "auto",
       "workflows": [],
       "xColumns": null,
       "yColumns": null
      }
     },
     "output_type": "display_data"
    }
   ],
   "source": [
    "TotalSalesEachMonth = (sales_df.join(menu_df,'Product_id').groupBy('Order_monthly').agg({'Price':'sum'}).orderBy('Order_monthly'))\n",
    "display(TotalSalesEachMonth)"
   ]
  },
  {
   "cell_type": "markdown",
   "metadata": {
    "application/vnd.databricks.v1+cell": {
     "cellMetadata": {},
     "inputWidgets": {},
     "nuid": "83ce475c-d757-480c-afed-ee814a70195d",
     "showTitle": false,
     "tableResultSettingsMap": {},
     "title": ""
    }
   },
   "source": [
    "- Yealr sales"
   ]
  },
  {
   "cell_type": "code",
   "execution_count": 0,
   "metadata": {
    "application/vnd.databricks.v1+cell": {
     "cellMetadata": {
      "byteLimit": 2048000,
      "rowLimit": 10000
     },
     "inputWidgets": {},
     "nuid": "c87fcf5c-2933-482f-8e1e-ff7b3b0ef8a1",
     "showTitle": false,
     "tableResultSettingsMap": {},
     "title": ""
    }
   },
   "outputs": [
    {
     "output_type": "display_data",
     "data": {
      "text/html": [
       "<style scoped>\n",
       "  .table-result-container {\n",
       "    max-height: 300px;\n",
       "    overflow: auto;\n",
       "  }\n",
       "  table, th, td {\n",
       "    border: 1px solid black;\n",
       "    border-collapse: collapse;\n",
       "  }\n",
       "  th, td {\n",
       "    padding: 5px;\n",
       "  }\n",
       "  th {\n",
       "    text-align: left;\n",
       "  }\n",
       "</style><div class='table-result-container'><table class='table-result'><thead style='background-color: white'><tr><th>Order_yearly</th><th>sum(Price)</th></tr></thead><tbody><tr><td>2022</td><td>4350.0</td></tr><tr><td>2023</td><td>9990.0</td></tr></tbody></table></div>"
      ]
     },
     "metadata": {
      "application/vnd.databricks.v1+output": {
       "addedWidgets": {},
       "aggData": [],
       "aggError": "",
       "aggOverflow": false,
       "aggSchema": [],
       "aggSeriesLimitReached": false,
       "aggType": "",
       "arguments": {},
       "columnCustomDisplayInfos": {},
       "data": [
        [
         2022,
         4350.0
        ],
        [
         2023,
         9990.0
        ]
       ],
       "datasetInfos": [],
       "dbfsResultPath": null,
       "isJsonSchema": true,
       "metadata": {},
       "overflow": false,
       "plotOptions": {
        "customPlotOptions": {},
        "displayType": "table",
        "pivotAggregation": null,
        "pivotColumns": null,
        "xColumns": null,
        "yColumns": null
       },
       "removedWidgets": [],
       "schema": [
        {
         "metadata": "{}",
         "name": "Order_yearly",
         "type": "\"integer\""
        },
        {
         "metadata": "{}",
         "name": "sum(Price)",
         "type": "\"double\""
        }
       ],
       "type": "table"
      }
     },
     "output_type": "display_data"
    },
    {
     "output_type": "display_data",
     "data": {
      "text/plain": [
       "Databricks visualization. Run in Databricks to view."
      ]
     },
     "metadata": {
      "application/vnd.databricks.v1.subcommand+json": {
       "baseErrorDetails": null,
       "bindings": {},
       "collapsed": false,
       "command": "%python\n__backend_agg_display_orig = display\n__backend_agg_dfs = []\ndef __backend_agg_display_new(df):\n    __backend_agg_df_modules = [\"pandas.core.frame\", \"databricks.koalas.frame\", \"pyspark.sql.dataframe\", \"pyspark.pandas.frame\", \"pyspark.sql.connect.dataframe\"]\n    if (type(df).__module__ in __backend_agg_df_modules and type(df).__name__ == 'DataFrame') or isinstance(df, list):\n        __backend_agg_dfs.append(df)\n\ndisplay = __backend_agg_display_new\n\ndef __backend_agg_user_code_fn():\n    import base64\n    exec(base64.standard_b64decode(\"VG90YWxTYWxlc0VhY2hZZWFyID0gKHNhbGVzX2RmLmpvaW4obWVudV9kZiwnUHJvZHVjdF9pZCcpLmdyb3VwQnkoJ09yZGVyX3llYXJseScpLmFnZyh7J1ByaWNlJzonc3VtJ30pLm9yZGVyQnkoJ09yZGVyX3llYXJseScpKQpkaXNwbGF5KFRvdGFsU2FsZXNFYWNoWWVhcik=\").decode())\n\ntry:\n    # run user code\n    __backend_agg_user_code_fn()\n\n    #reset display function\n    display = __backend_agg_display_orig\n\n    if len(__backend_agg_dfs) > 0:\n        # create a temp view\n        if type(__backend_agg_dfs[0]).__module__ == \"databricks.koalas.frame\":\n            # koalas dataframe\n            __backend_agg_dfs[0].to_spark().createOrReplaceTempView(\"DatabricksView8d7d159\")\n        elif type(__backend_agg_dfs[0]).__module__ == \"pandas.core.frame\" or isinstance(__backend_agg_dfs[0], list):\n            # pandas dataframe\n            spark.createDataFrame(__backend_agg_dfs[0]).createOrReplaceTempView(\"DatabricksView8d7d159\")\n        else:\n            __backend_agg_dfs[0].createOrReplaceTempView(\"DatabricksView8d7d159\")\n        #run backend agg\n        display(spark.sql(\"\"\"WITH q AS (select * from DatabricksView8d7d159) SELECT `Order_yearly`,SUM(`sum(Price)`) `column_9460c9a986` FROM q GROUP BY `Order_yearly`\"\"\"))\n    else:\n        displayHTML(\"dataframe no longer exists. If you're using dataframe.display(), use display(dataframe) instead.\")\n\n\nfinally:\n    spark.sql(\"drop view if exists DatabricksView8d7d159\")\n    display = __backend_agg_display_orig\n    del __backend_agg_display_new\n    del __backend_agg_display_orig\n    del __backend_agg_dfs\n    del __backend_agg_user_code_fn\n\n",
       "commandTitle": "Visualization 1",
       "commandType": "auto",
       "commandVersion": 0,
       "commentThread": [],
       "commentsVisible": false,
       "contentSha256Hex": null,
       "customPlotOptions": {
        "redashChart": [
         {
          "key": "type",
          "value": "CHART"
         },
         {
          "key": "options",
          "value": {
           "alignYAxesAtZero": true,
           "coefficient": 1,
           "columnConfigurationMap": {
            "x": {
             "column": "Order_yearly",
             "id": "column_9460c9a985"
            },
            "y": [
             {
              "column": "sum(Price)",
              "id": "column_9460c9a986",
              "transform": "SUM"
             }
            ]
           },
           "dateTimeFormat": "DD/MM/YYYY HH:mm",
           "direction": {
            "type": "counterclockwise"
           },
           "error_y": {
            "type": "data",
            "visible": true
           },
           "globalSeriesType": "column",
           "isAggregationOn": true,
           "legend": {
            "traceorder": "normal"
           },
           "missingValuesAsZero": true,
           "numberFormat": "0,0.[00000]",
           "percentFormat": "0[.]00%",
           "series": {
            "error_y": {
             "type": "data",
             "visible": true
            },
            "stacking": null
           },
           "seriesOptions": {
            "column_9460c9a986": {
             "name": "sum(Price)",
             "type": "column",
             "yAxis": 0
            }
           },
           "showDataLabels": true,
           "sizemode": "diameter",
           "sortX": true,
           "sortY": true,
           "swappedAxes": false,
           "textFormat": "",
           "useAggregationsUi": true,
           "valuesOptions": {},
           "version": 2,
           "xAxis": {
            "labels": {
             "enabled": true
            },
            "type": "-"
           },
           "yAxis": [
            {
             "type": "-"
            },
            {
             "opposite": true,
             "type": "-"
            }
           ]
          }
         }
        ]
       },
       "datasetPreviewNameToCmdIdMap": {},
       "diffDeletes": [],
       "diffInserts": [],
       "displayType": "redashChart",
       "error": null,
       "errorDetails": null,
       "errorSummary": null,
       "errorTraceType": null,
       "finishTime": 0,
       "globalVars": {},
       "guid": "",
       "height": "auto",
       "hideCommandCode": false,
       "hideCommandResult": false,
       "iPythonMetadata": null,
       "inputWidgets": {},
       "isLockedInExamMode": false,
       "latestUser": "a user",
       "latestUserId": null,
       "listResultMetadata": null,
       "metadata": {},
       "nuid": "1056549e-0f17-4676-b0bb-8a6220a8f104",
       "origId": 0,
       "parentHierarchy": [],
       "pivotAggregation": null,
       "pivotColumns": null,
       "position": 16.0,
       "resultDbfsErrorMessage": null,
       "resultDbfsStatus": "INLINED_IN_TREE",
       "results": null,
       "showCommandTitle": false,
       "startTime": 0,
       "state": "input",
       "streamStates": {},
       "subcommandOptions": {
        "queryPlan": {
         "groups": [
          {
           "column": "Order_yearly",
           "type": "column"
          }
         ],
         "selects": [
          {
           "column": "Order_yearly",
           "type": "column"
          },
          {
           "alias": "column_9460c9a986",
           "args": [
            {
             "column": "sum(Price)",
             "type": "column"
            }
           ],
           "function": "SUM",
           "type": "function"
          }
         ]
        }
       },
       "submitTime": 0,
       "subtype": "tableResultSubCmd.visualization",
       "tableResultIndex": 0,
       "tableResultSettingsMap": {},
       "useConsistentColors": false,
       "version": "CommandV1",
       "width": "auto",
       "workflows": [],
       "xColumns": null,
       "yColumns": null
      }
     },
     "output_type": "display_data"
    }
   ],
   "source": [
    "TotalSalesEachYear = (sales_df.join(menu_df,'Product_id').groupBy('Order_yearly').agg({'Price':'sum'}).orderBy('Order_yearly'))\n",
    "display(TotalSalesEachYear)"
   ]
  },
  {
   "cell_type": "markdown",
   "metadata": {
    "application/vnd.databricks.v1+cell": {
     "cellMetadata": {},
     "inputWidgets": {},
     "nuid": "afb4d871-51eb-4057-a8db-8b7e340d3f65",
     "showTitle": false,
     "tableResultSettingsMap": {},
     "title": ""
    }
   },
   "source": [
    "- Quaterly sales"
   ]
  },
  {
   "cell_type": "code",
   "execution_count": 0,
   "metadata": {
    "application/vnd.databricks.v1+cell": {
     "cellMetadata": {
      "byteLimit": 2048000,
      "rowLimit": 10000
     },
     "inputWidgets": {},
     "nuid": "5bbfa612-34f5-4162-95c7-4e929dca15f1",
     "showTitle": false,
     "tableResultSettingsMap": {},
     "title": ""
    }
   },
   "outputs": [
    {
     "output_type": "display_data",
     "data": {
      "text/html": [
       "<style scoped>\n",
       "  .table-result-container {\n",
       "    max-height: 300px;\n",
       "    overflow: auto;\n",
       "  }\n",
       "  table, th, td {\n",
       "    border: 1px solid black;\n",
       "    border-collapse: collapse;\n",
       "  }\n",
       "  th, td {\n",
       "    padding: 5px;\n",
       "  }\n",
       "  th {\n",
       "    text-align: left;\n",
       "  }\n",
       "</style><div class='table-result-container'><table class='table-result'><thead style='background-color: white'><tr><th>Order_quaterly</th><th>sum(Price)</th></tr></thead><tbody><tr><td>1</td><td>6600.0</td></tr><tr><td>2</td><td>5920.0</td></tr><tr><td>3</td><td>910.0</td></tr><tr><td>4</td><td>910.0</td></tr></tbody></table></div>"
      ]
     },
     "metadata": {
      "application/vnd.databricks.v1+output": {
       "addedWidgets": {},
       "aggData": [],
       "aggError": "",
       "aggOverflow": false,
       "aggSchema": [],
       "aggSeriesLimitReached": false,
       "aggType": "",
       "arguments": {},
       "columnCustomDisplayInfos": {},
       "data": [
        [
         1,
         6600.0
        ],
        [
         2,
         5920.0
        ],
        [
         3,
         910.0
        ],
        [
         4,
         910.0
        ]
       ],
       "datasetInfos": [],
       "dbfsResultPath": null,
       "isJsonSchema": true,
       "metadata": {},
       "overflow": false,
       "plotOptions": {
        "customPlotOptions": {},
        "displayType": "table",
        "pivotAggregation": null,
        "pivotColumns": null,
        "xColumns": null,
        "yColumns": null
       },
       "removedWidgets": [],
       "schema": [
        {
         "metadata": "{}",
         "name": "Order_quaterly",
         "type": "\"integer\""
        },
        {
         "metadata": "{}",
         "name": "sum(Price)",
         "type": "\"double\""
        }
       ],
       "type": "table"
      }
     },
     "output_type": "display_data"
    },
    {
     "output_type": "display_data",
     "data": {
      "text/plain": [
       "Databricks visualization. Run in Databricks to view."
      ]
     },
     "metadata": {
      "application/vnd.databricks.v1.subcommand+json": {
       "baseErrorDetails": null,
       "bindings": {},
       "collapsed": false,
       "command": "%python\n__backend_agg_display_orig = display\n__backend_agg_dfs = []\ndef __backend_agg_display_new(df):\n    __backend_agg_df_modules = [\"pandas.core.frame\", \"databricks.koalas.frame\", \"pyspark.sql.dataframe\", \"pyspark.pandas.frame\", \"pyspark.sql.connect.dataframe\"]\n    if (type(df).__module__ in __backend_agg_df_modules and type(df).__name__ == 'DataFrame') or isinstance(df, list):\n        __backend_agg_dfs.append(df)\n\ndisplay = __backend_agg_display_new\n\ndef __backend_agg_user_code_fn():\n    import base64\n    exec(base64.standard_b64decode(\"VG90YWxTYWxlc0VhY2hRdWF0ZXIgPSAoc2FsZXNfZGYuam9pbihtZW51X2RmLCdQcm9kdWN0X2lkJykuZ3JvdXBCeSgnT3JkZXJfcXVhdGVybHknKS5hZ2coeydQcmljZSc6J3N1bSd9KS5vcmRlckJ5KCdPcmRlcl9xdWF0ZXJseScpKQpkaXNwbGF5KFRvdGFsU2FsZXNFYWNoUXVhdGVyKQ==\").decode())\n\ntry:\n    # run user code\n    __backend_agg_user_code_fn()\n\n    #reset display function\n    display = __backend_agg_display_orig\n\n    if len(__backend_agg_dfs) > 0:\n        # create a temp view\n        if type(__backend_agg_dfs[0]).__module__ == \"databricks.koalas.frame\":\n            # koalas dataframe\n            __backend_agg_dfs[0].to_spark().createOrReplaceTempView(\"DatabricksView59c0d02\")\n        elif type(__backend_agg_dfs[0]).__module__ == \"pandas.core.frame\" or isinstance(__backend_agg_dfs[0], list):\n            # pandas dataframe\n            spark.createDataFrame(__backend_agg_dfs[0]).createOrReplaceTempView(\"DatabricksView59c0d02\")\n        else:\n            __backend_agg_dfs[0].createOrReplaceTempView(\"DatabricksView59c0d02\")\n        #run backend agg\n        display(spark.sql(\"\"\"WITH q AS (select * from DatabricksView59c0d02) SELECT `Order_quaterly`,SUM(`sum(Price)`) `column_9460c9a989` FROM q GROUP BY `Order_quaterly`\"\"\"))\n    else:\n        displayHTML(\"dataframe no longer exists. If you're using dataframe.display(), use display(dataframe) instead.\")\n\n\nfinally:\n    spark.sql(\"drop view if exists DatabricksView59c0d02\")\n    display = __backend_agg_display_orig\n    del __backend_agg_display_new\n    del __backend_agg_display_orig\n    del __backend_agg_dfs\n    del __backend_agg_user_code_fn\n\n",
       "commandTitle": "Visualization 1",
       "commandType": "auto",
       "commandVersion": 0,
       "commentThread": [],
       "commentsVisible": false,
       "contentSha256Hex": null,
       "customPlotOptions": {
        "redashChart": [
         {
          "key": "type",
          "value": "CHART"
         },
         {
          "key": "options",
          "value": {
           "alignYAxesAtZero": true,
           "coefficient": 1,
           "columnConfigurationMap": {
            "x": {
             "column": "Order_quaterly",
             "id": "column_9460c9a988"
            },
            "y": [
             {
              "column": "sum(Price)",
              "id": "column_9460c9a989",
              "transform": "SUM"
             }
            ]
           },
           "dateTimeFormat": "DD/MM/YYYY HH:mm",
           "direction": {
            "type": "counterclockwise"
           },
           "error_y": {
            "type": "data",
            "visible": true
           },
           "globalSeriesType": "column",
           "isAggregationOn": true,
           "legend": {
            "traceorder": "normal"
           },
           "missingValuesAsZero": true,
           "numberFormat": "0,0.[00000]",
           "percentFormat": "0[.]00%",
           "series": {
            "error_y": {
             "type": "data",
             "visible": true
            },
            "stacking": null
           },
           "seriesOptions": {
            "column_9460c9a989": {
             "color": "#E92828",
             "name": "sum(Price)",
             "type": "column",
             "yAxis": 0
            }
           },
           "showDataLabels": true,
           "sizemode": "diameter",
           "sortX": true,
           "sortY": true,
           "swappedAxes": false,
           "textFormat": "",
           "useAggregationsUi": true,
           "valuesOptions": {},
           "version": 2,
           "xAxis": {
            "labels": {
             "enabled": true
            },
            "type": "-"
           },
           "yAxis": [
            {
             "type": "-"
            },
            {
             "opposite": true,
             "type": "-"
            }
           ]
          }
         }
        ]
       },
       "datasetPreviewNameToCmdIdMap": {},
       "diffDeletes": [],
       "diffInserts": [],
       "displayType": "redashChart",
       "error": null,
       "errorDetails": null,
       "errorSummary": null,
       "errorTraceType": null,
       "finishTime": 0,
       "globalVars": {},
       "guid": "",
       "height": "auto",
       "hideCommandCode": false,
       "hideCommandResult": false,
       "iPythonMetadata": null,
       "inputWidgets": {},
       "isLockedInExamMode": false,
       "latestUser": "a user",
       "latestUserId": null,
       "listResultMetadata": null,
       "metadata": {},
       "nuid": "5b0a8ccf-dd4a-4d86-bd1c-6962d60c9ea5",
       "origId": 0,
       "parentHierarchy": [],
       "pivotAggregation": null,
       "pivotColumns": null,
       "position": 18.0,
       "resultDbfsErrorMessage": null,
       "resultDbfsStatus": "INLINED_IN_TREE",
       "results": null,
       "showCommandTitle": false,
       "startTime": 0,
       "state": "input",
       "streamStates": {},
       "subcommandOptions": {
        "queryPlan": {
         "groups": [
          {
           "column": "Order_quaterly",
           "type": "column"
          }
         ],
         "selects": [
          {
           "column": "Order_quaterly",
           "type": "column"
          },
          {
           "alias": "column_9460c9a989",
           "args": [
            {
             "column": "sum(Price)",
             "type": "column"
            }
           ],
           "function": "SUM",
           "type": "function"
          }
         ]
        }
       },
       "submitTime": 0,
       "subtype": "tableResultSubCmd.visualization",
       "tableResultIndex": 0,
       "tableResultSettingsMap": {},
       "useConsistentColors": false,
       "version": "CommandV1",
       "width": "auto",
       "workflows": [],
       "xColumns": null,
       "yColumns": null
      }
     },
     "output_type": "display_data"
    }
   ],
   "source": [
    "TotalSalesEachQuater = (sales_df.join(menu_df,'Product_id').groupBy('Order_quaterly').agg({'Price':'sum'}).orderBy('Order_quaterly'))\n",
    "display(TotalSalesEachQuater)"
   ]
  },
  {
   "cell_type": "markdown",
   "metadata": {
    "application/vnd.databricks.v1+cell": {
     "cellMetadata": {},
     "inputWidgets": {},
     "nuid": "04018c0a-9381-43d5-a602-52af4afcd4c7",
     "showTitle": false,
     "tableResultSettingsMap": {},
     "title": ""
    }
   },
   "source": [
    "- Total number of  order by each category"
   ]
  },
  {
   "cell_type": "code",
   "execution_count": 0,
   "metadata": {
    "application/vnd.databricks.v1+cell": {
     "cellMetadata": {
      "byteLimit": 2048000,
      "rowLimit": 10000
     },
     "inputWidgets": {},
     "nuid": "032ce8e4-11aa-43e4-8c7b-8cc779617828",
     "showTitle": false,
     "tableResultSettingsMap": {},
     "title": ""
    }
   },
   "outputs": [
    {
     "output_type": "display_data",
     "data": {
      "text/html": [
       "<style scoped>\n",
       "  .table-result-container {\n",
       "    max-height: 300px;\n",
       "    overflow: auto;\n",
       "  }\n",
       "  table, th, td {\n",
       "    border: 1px solid black;\n",
       "    border-collapse: collapse;\n",
       "  }\n",
       "  th, td {\n",
       "    padding: 5px;\n",
       "  }\n",
       "  th {\n",
       "    text-align: left;\n",
       "  }\n",
       "</style><div class='table-result-container'><table class='table-result'><thead style='background-color: white'><tr><th>product_name</th><th>count(Product_id)</th></tr></thead><tbody><tr><td> Pasta</td><td>6</td></tr><tr><td> PIZZA</td><td>21</td></tr><tr><td> sandwich</td><td>48</td></tr><tr><td> Biryani</td><td>6</td></tr><tr><td> Chowmin</td><td>24</td></tr><tr><td> Dosa</td><td>12</td></tr></tbody></table></div>"
      ]
     },
     "metadata": {
      "application/vnd.databricks.v1+output": {
       "addedWidgets": {},
       "aggData": [],
       "aggError": "",
       "aggOverflow": false,
       "aggSchema": [],
       "aggSeriesLimitReached": false,
       "aggType": "",
       "arguments": {},
       "columnCustomDisplayInfos": {},
       "data": [
        [
         " Pasta",
         6
        ],
        [
         " PIZZA",
         21
        ],
        [
         " sandwich",
         48
        ],
        [
         " Biryani",
         6
        ],
        [
         " Chowmin",
         24
        ],
        [
         " Dosa",
         12
        ]
       ],
       "datasetInfos": [],
       "dbfsResultPath": null,
       "isJsonSchema": true,
       "metadata": {},
       "overflow": false,
       "plotOptions": {
        "customPlotOptions": {},
        "displayType": "table",
        "pivotAggregation": null,
        "pivotColumns": null,
        "xColumns": null,
        "yColumns": null
       },
       "removedWidgets": [],
       "schema": [
        {
         "metadata": "{}",
         "name": "product_name",
         "type": "\"string\""
        },
        {
         "metadata": "{}",
         "name": "count(Product_id)",
         "type": "\"long\""
        }
       ],
       "type": "table"
      }
     },
     "output_type": "display_data"
    }
   ],
   "source": [
    "TotalOrderEachCategory = (sales_df.join(menu_df,'Product_id').groupBy('product_name').agg({'Product_id':'count'}))\n",
    "display(TotalOrderEachCategory)"
   ]
  },
  {
   "cell_type": "markdown",
   "metadata": {
    "application/vnd.databricks.v1+cell": {
     "cellMetadata": {},
     "inputWidgets": {},
     "nuid": "58c6d69b-4965-4aa2-b16b-d9f525270a0f",
     "showTitle": false,
     "tableResultSettingsMap": {},
     "title": ""
    }
   },
   "source": [
    "Other ways to do\n"
   ]
  },
  {
   "cell_type": "code",
   "execution_count": 0,
   "metadata": {
    "application/vnd.databricks.v1+cell": {
     "cellMetadata": {
      "byteLimit": 2048000,
      "rowLimit": 10000
     },
     "inputWidgets": {},
     "nuid": "fb6a8c92-5e09-4308-a9a6-ff7c368e0ab2",
     "showTitle": false,
     "tableResultSettingsMap": {},
     "title": ""
    }
   },
   "outputs": [
    {
     "output_type": "display_data",
     "data": {
      "text/html": [
       "<style scoped>\n",
       "  .table-result-container {\n",
       "    max-height: 300px;\n",
       "    overflow: auto;\n",
       "  }\n",
       "  table, th, td {\n",
       "    border: 1px solid black;\n",
       "    border-collapse: collapse;\n",
       "  }\n",
       "  th, td {\n",
       "    padding: 5px;\n",
       "  }\n",
       "  th {\n",
       "    text-align: left;\n",
       "  }\n",
       "</style><div class='table-result-container'><table class='table-result'><thead style='background-color: white'><tr><th>Product_id</th><th>Product_name</th><th>Product_count</th></tr></thead><tbody><tr><td>3</td><td> sandwich</td><td>48</td></tr><tr><td>2</td><td> Chowmin</td><td>24</td></tr><tr><td>1</td><td> PIZZA</td><td>21</td></tr><tr><td>4</td><td> Dosa</td><td>12</td></tr><tr><td>5</td><td> Biryani</td><td>6</td></tr><tr><td>6</td><td> Pasta</td><td>6</td></tr></tbody></table></div>"
      ]
     },
     "metadata": {
      "application/vnd.databricks.v1+output": {
       "addedWidgets": {},
       "aggData": [],
       "aggError": "",
       "aggOverflow": false,
       "aggSchema": [],
       "aggSeriesLimitReached": false,
       "aggType": "",
       "arguments": {},
       "columnCustomDisplayInfos": {},
       "data": [
        [
         3,
         " sandwich",
         48
        ],
        [
         2,
         " Chowmin",
         24
        ],
        [
         1,
         " PIZZA",
         21
        ],
        [
         4,
         " Dosa",
         12
        ],
        [
         5,
         " Biryani",
         6
        ],
        [
         6,
         " Pasta",
         6
        ]
       ],
       "datasetInfos": [],
       "dbfsResultPath": null,
       "isJsonSchema": true,
       "metadata": {},
       "overflow": false,
       "plotOptions": {
        "customPlotOptions": {},
        "displayType": "table",
        "pivotAggregation": null,
        "pivotColumns": null,
        "xColumns": null,
        "yColumns": null
       },
       "removedWidgets": [],
       "schema": [
        {
         "metadata": "{}",
         "name": "Product_id",
         "type": "\"integer\""
        },
        {
         "metadata": "{}",
         "name": "Product_name",
         "type": "\"string\""
        },
        {
         "metadata": "{}",
         "name": "Product_count",
         "type": "\"long\""
        }
       ],
       "type": "table"
      }
     },
     "output_type": "display_data"
    },
    {
     "output_type": "display_data",
     "data": {
      "text/plain": [
       "Databricks visualization. Run in Databricks to view."
      ]
     },
     "metadata": {
      "application/vnd.databricks.v1.subcommand+json": {
       "baseErrorDetails": null,
       "bindings": {},
       "collapsed": false,
       "command": "from pyspark.sql.functions import count\n\nEachTotal = (sales_df.join(menu_df,'product_id').groupBy('Product_id','Product_name').agg(count('Product_id').alias('Product_count')).orderBy('Product_count',ascending=0)) \ndisplay(EachTotal)",
       "commandTitle": "Visualization 1",
       "commandType": "auto",
       "commandVersion": 0,
       "commentThread": [],
       "commentsVisible": false,
       "contentSha256Hex": null,
       "customPlotOptions": {
        "redashChart": [
         {
          "key": "type",
          "value": "FUNNEL"
         },
         {
          "key": "options",
          "value": {
           "autoSort": true,
           "itemsLimit": 100,
           "numberFormat": "0,0.[00]",
           "percentFormat": "0[.]00%",
           "percentValuesRange": {
            "max": 1000,
            "min": 0.01
           },
           "sortKeyCol": {
            "colName": "Product_count",
            "reverse": true
           },
           "stepCol": {
            "colName": "Product_name",
            "displayAs": "Steps"
           },
           "valueCol": {
            "colName": "Product_count",
            "displayAs": "Value"
           }
          }
         }
        ]
       },
       "datasetPreviewNameToCmdIdMap": {},
       "diffDeletes": [],
       "diffInserts": [],
       "displayType": "redashChart",
       "error": null,
       "errorDetails": null,
       "errorSummary": null,
       "errorTraceType": null,
       "finishTime": 0,
       "globalVars": {},
       "guid": "",
       "height": "auto",
       "hideCommandCode": false,
       "hideCommandResult": false,
       "iPythonMetadata": null,
       "inputWidgets": {},
       "isLockedInExamMode": false,
       "latestUser": "a user",
       "latestUserId": null,
       "listResultMetadata": null,
       "metadata": {},
       "nuid": "05265320-77e2-493f-80c9-71aa83d4f269",
       "origId": 0,
       "parentHierarchy": [],
       "pivotAggregation": null,
       "pivotColumns": null,
       "position": 21.0,
       "resultDbfsErrorMessage": null,
       "resultDbfsStatus": "INLINED_IN_TREE",
       "results": null,
       "showCommandTitle": false,
       "startTime": 0,
       "state": "input",
       "streamStates": {},
       "subcommandOptions": {},
       "submitTime": 0,
       "subtype": "tableResultSubCmd.visualization",
       "tableResultIndex": 0,
       "tableResultSettingsMap": {},
       "useConsistentColors": false,
       "version": "CommandV1",
       "width": "auto",
       "workflows": [],
       "xColumns": null,
       "yColumns": null
      }
     },
     "output_type": "display_data"
    }
   ],
   "source": [
    "from pyspark.sql.functions import count\n",
    "\n",
    "EachTotal = (sales_df.join(menu_df,'product_id').groupBy('Product_id','Product_name').agg(count('Product_id').alias('Product_count')).orderBy('Product_count',ascending=0)) \n",
    "display(EachTotal)"
   ]
  },
  {
   "cell_type": "markdown",
   "metadata": {
    "application/vnd.databricks.v1+cell": {
     "cellMetadata": {},
     "inputWidgets": {},
     "nuid": "2c1c7ceb-9989-419b-83c0-0bf16c6021ba",
     "showTitle": false,
     "tableResultSettingsMap": {},
     "title": ""
    }
   },
   "source": [
    "- Top 5 ordered items\n"
   ]
  },
  {
   "cell_type": "code",
   "execution_count": 0,
   "metadata": {
    "application/vnd.databricks.v1+cell": {
     "cellMetadata": {
      "byteLimit": 2048000,
      "rowLimit": 10000
     },
     "inputWidgets": {},
     "nuid": "7affcff5-d9f5-4a66-a962-b038700675bc",
     "showTitle": false,
     "tableResultSettingsMap": {},
     "title": ""
    }
   },
   "outputs": [
    {
     "output_type": "display_data",
     "data": {
      "text/html": [
       "<style scoped>\n",
       "  .table-result-container {\n",
       "    max-height: 300px;\n",
       "    overflow: auto;\n",
       "  }\n",
       "  table, th, td {\n",
       "    border: 1px solid black;\n",
       "    border-collapse: collapse;\n",
       "  }\n",
       "  th, td {\n",
       "    padding: 5px;\n",
       "  }\n",
       "  th {\n",
       "    text-align: left;\n",
       "  }\n",
       "</style><div class='table-result-container'><table class='table-result'><thead style='background-color: white'><tr><th>Product_id</th><th>Product_name</th><th>Product_count</th></tr></thead><tbody><tr><td>3</td><td> sandwich</td><td>48</td></tr><tr><td>2</td><td> Chowmin</td><td>24</td></tr><tr><td>1</td><td> PIZZA</td><td>21</td></tr><tr><td>4</td><td> Dosa</td><td>12</td></tr><tr><td>5</td><td> Biryani</td><td>6</td></tr></tbody></table></div>"
      ]
     },
     "metadata": {
      "application/vnd.databricks.v1+output": {
       "addedWidgets": {},
       "aggData": [],
       "aggError": "",
       "aggOverflow": false,
       "aggSchema": [],
       "aggSeriesLimitReached": false,
       "aggType": "",
       "arguments": {},
       "columnCustomDisplayInfos": {},
       "data": [
        [
         3,
         " sandwich",
         48
        ],
        [
         2,
         " Chowmin",
         24
        ],
        [
         1,
         " PIZZA",
         21
        ],
        [
         4,
         " Dosa",
         12
        ],
        [
         5,
         " Biryani",
         6
        ]
       ],
       "datasetInfos": [],
       "dbfsResultPath": null,
       "isJsonSchema": true,
       "metadata": {},
       "overflow": false,
       "plotOptions": {
        "customPlotOptions": {},
        "displayType": "table",
        "pivotAggregation": null,
        "pivotColumns": null,
        "xColumns": null,
        "yColumns": null
       },
       "removedWidgets": [],
       "schema": [
        {
         "metadata": "{}",
         "name": "Product_id",
         "type": "\"integer\""
        },
        {
         "metadata": "{}",
         "name": "Product_name",
         "type": "\"string\""
        },
        {
         "metadata": "{}",
         "name": "Product_count",
         "type": "\"long\""
        }
       ],
       "type": "table"
      }
     },
     "output_type": "display_data"
    },
    {
     "output_type": "display_data",
     "data": {
      "text/plain": [
       "Databricks visualization. Run in Databricks to view."
      ]
     },
     "metadata": {
      "application/vnd.databricks.v1.subcommand+json": {
       "baseErrorDetails": null,
       "bindings": {},
       "collapsed": false,
       "command": "%python\n__backend_agg_display_orig = display\n__backend_agg_dfs = []\ndef __backend_agg_display_new(df):\n    __backend_agg_df_modules = [\"pandas.core.frame\", \"databricks.koalas.frame\", \"pyspark.sql.dataframe\", \"pyspark.pandas.frame\", \"pyspark.sql.connect.dataframe\"]\n    if (type(df).__module__ in __backend_agg_df_modules and type(df).__name__ == 'DataFrame') or isinstance(df, list):\n        __backend_agg_dfs.append(df)\n\ndisplay = __backend_agg_display_new\n\ndef __backend_agg_user_code_fn():\n    import base64\n    exec(base64.standard_b64decode(\"ZnJvbSBweXNwYXJrLnNxbC5mdW5jdGlvbnMgaW1wb3J0IGNvdW50CgpFYWNoVG90YWwgPSAoc2FsZXNfZGYuam9pbihtZW51X2RmLCdwcm9kdWN0X2lkJykuZ3JvdXBCeSgnUHJvZHVjdF9pZCcsJ1Byb2R1Y3RfbmFtZScpLmFnZyhjb3VudCgnUHJvZHVjdF9pZCcpLmFsaWFzKCdQcm9kdWN0X2NvdW50JykpLm9yZGVyQnkoJ1Byb2R1Y3RfY291bnQnLGFzY2VuZGluZz0wKSkubGltaXQoNSkKZGlzcGxheShFYWNoVG90YWwp\").decode())\n\ntry:\n    # run user code\n    __backend_agg_user_code_fn()\n\n    #reset display function\n    display = __backend_agg_display_orig\n\n    if len(__backend_agg_dfs) > 0:\n        # create a temp view\n        if type(__backend_agg_dfs[0]).__module__ == \"databricks.koalas.frame\":\n            # koalas dataframe\n            __backend_agg_dfs[0].to_spark().createOrReplaceTempView(\"DatabricksViewff93924\")\n        elif type(__backend_agg_dfs[0]).__module__ == \"pandas.core.frame\" or isinstance(__backend_agg_dfs[0], list):\n            # pandas dataframe\n            spark.createDataFrame(__backend_agg_dfs[0]).createOrReplaceTempView(\"DatabricksViewff93924\")\n        else:\n            __backend_agg_dfs[0].createOrReplaceTempView(\"DatabricksViewff93924\")\n        #run backend agg\n        display(spark.sql(\"\"\"WITH q AS (select * from DatabricksViewff93924) SELECT `Product_id`,SUM(`Product_count`) `column_9460c9a9206`,`Product_name` FROM q GROUP BY `Product_id`,`Product_name`\"\"\"))\n    else:\n        displayHTML(\"dataframe no longer exists. If you're using dataframe.display(), use display(dataframe) instead.\")\n\n\nfinally:\n    spark.sql(\"drop view if exists DatabricksViewff93924\")\n    display = __backend_agg_display_orig\n    del __backend_agg_display_new\n    del __backend_agg_display_orig\n    del __backend_agg_dfs\n    del __backend_agg_user_code_fn\n\n",
       "commandTitle": "Visualization 1",
       "commandType": "auto",
       "commandVersion": 0,
       "commentThread": [],
       "commentsVisible": false,
       "contentSha256Hex": null,
       "customPlotOptions": {
        "redashChart": [
         {
          "key": "type",
          "value": "CHART"
         },
         {
          "key": "options",
          "value": {
           "alignYAxesAtZero": true,
           "coefficient": 1,
           "columnConfigurationMap": {
            "series": {
             "column": "Product_name",
             "id": "column_9460c9a9207"
            },
            "x": {
             "column": "Product_id",
             "id": "column_9460c9a9205"
            },
            "y": [
             {
              "column": "Product_count",
              "id": "column_9460c9a9206",
              "transform": "SUM"
             }
            ]
           },
           "dateTimeFormat": "DD/MM/YYYY HH:mm",
           "direction": {
            "type": "counterclockwise"
           },
           "error_y": {
            "type": "data",
            "visible": true
           },
           "globalSeriesType": "column",
           "isAggregationOn": true,
           "legend": {
            "traceorder": "normal"
           },
           "missingValuesAsZero": true,
           "numberFormat": "0,0.[00000]",
           "percentFormat": "0[.]00%",
           "series": {
            "error_y": {
             "type": "data",
             "visible": true
            },
            "stacking": null
           },
           "seriesOptions": {
            "column_9460c9a9206": {
             "name": "Product_count",
             "type": "column",
             "yAxis": 0
            }
           },
           "showDataLabels": false,
           "sizemode": "diameter",
           "sortX": true,
           "sortY": true,
           "swappedAxes": false,
           "textFormat": "",
           "useAggregationsUi": true,
           "valuesOptions": {},
           "version": 2,
           "xAxis": {
            "labels": {
             "enabled": true
            },
            "type": "-"
           },
           "yAxis": [
            {
             "type": "-"
            },
            {
             "opposite": true,
             "type": "-"
            }
           ]
          }
         }
        ]
       },
       "datasetPreviewNameToCmdIdMap": {},
       "diffDeletes": [],
       "diffInserts": [],
       "displayType": "redashChart",
       "error": null,
       "errorDetails": null,
       "errorSummary": null,
       "errorTraceType": null,
       "finishTime": 0,
       "globalVars": {},
       "guid": "",
       "height": "auto",
       "hideCommandCode": false,
       "hideCommandResult": false,
       "iPythonMetadata": null,
       "inputWidgets": {},
       "isLockedInExamMode": false,
       "latestUser": "a user",
       "latestUserId": null,
       "listResultMetadata": null,
       "metadata": {},
       "nuid": "3df8f50a-58bc-4d74-9e39-1a82b2dc30c2",
       "origId": 0,
       "parentHierarchy": [],
       "pivotAggregation": null,
       "pivotColumns": null,
       "position": 23.0,
       "resultDbfsErrorMessage": null,
       "resultDbfsStatus": "INLINED_IN_TREE",
       "results": null,
       "showCommandTitle": false,
       "startTime": 0,
       "state": "input",
       "streamStates": {},
       "subcommandOptions": {
        "queryPlan": {
         "groups": [
          {
           "column": "Product_id",
           "type": "column"
          },
          {
           "column": "Product_name",
           "type": "column"
          }
         ],
         "selects": [
          {
           "column": "Product_id",
           "type": "column"
          },
          {
           "alias": "column_9460c9a9206",
           "args": [
            {
             "column": "Product_count",
             "type": "column"
            }
           ],
           "function": "SUM",
           "type": "function"
          },
          {
           "column": "Product_name",
           "type": "column"
          }
         ]
        }
       },
       "submitTime": 0,
       "subtype": "tableResultSubCmd.visualization",
       "tableResultIndex": 0,
       "tableResultSettingsMap": {},
       "useConsistentColors": false,
       "version": "CommandV1",
       "width": "auto",
       "workflows": [],
       "xColumns": null,
       "yColumns": null
      }
     },
     "output_type": "display_data"
    }
   ],
   "source": [
    "from pyspark.sql.functions import count\n",
    "\n",
    "EachTotal = (sales_df.join(menu_df,'product_id').groupBy('Product_id','Product_name').agg(count('Product_id').alias('Product_count')).orderBy('Product_count',ascending=0)).limit(5)\n",
    "display(EachTotal)"
   ]
  },
  {
   "cell_type": "markdown",
   "metadata": {
    "application/vnd.databricks.v1+cell": {
     "cellMetadata": {},
     "inputWidgets": {},
     "nuid": "bf9353e4-03ea-4e26-87ef-06da6e94e133",
     "showTitle": false,
     "tableResultSettingsMap": {},
     "title": ""
    }
   },
   "source": [
    "- Most Ordered"
   ]
  },
  {
   "cell_type": "code",
   "execution_count": 0,
   "metadata": {
    "application/vnd.databricks.v1+cell": {
     "cellMetadata": {
      "byteLimit": 2048000,
      "rowLimit": 10000
     },
     "inputWidgets": {},
     "nuid": "d0c53b7e-5943-43a7-a019-62c0c07c02a6",
     "showTitle": false,
     "tableResultSettingsMap": {},
     "title": ""
    }
   },
   "outputs": [
    {
     "output_type": "display_data",
     "data": {
      "text/html": [
       "<style scoped>\n",
       "  .table-result-container {\n",
       "    max-height: 300px;\n",
       "    overflow: auto;\n",
       "  }\n",
       "  table, th, td {\n",
       "    border: 1px solid black;\n",
       "    border-collapse: collapse;\n",
       "  }\n",
       "  th, td {\n",
       "    padding: 5px;\n",
       "  }\n",
       "  th {\n",
       "    text-align: left;\n",
       "  }\n",
       "</style><div class='table-result-container'><table class='table-result'><thead style='background-color: white'><tr><th>Product_id</th><th>Product_name</th><th>Product_count</th></tr></thead><tbody><tr><td>3</td><td> sandwich</td><td>48</td></tr></tbody></table></div>"
      ]
     },
     "metadata": {
      "application/vnd.databricks.v1+output": {
       "addedWidgets": {},
       "aggData": [],
       "aggError": "",
       "aggOverflow": false,
       "aggSchema": [],
       "aggSeriesLimitReached": false,
       "aggType": "",
       "arguments": {},
       "columnCustomDisplayInfos": {},
       "data": [
        [
         3,
         " sandwich",
         48
        ]
       ],
       "datasetInfos": [],
       "dbfsResultPath": null,
       "isJsonSchema": true,
       "metadata": {},
       "overflow": false,
       "plotOptions": {
        "customPlotOptions": {},
        "displayType": "table",
        "pivotAggregation": null,
        "pivotColumns": null,
        "xColumns": null,
        "yColumns": null
       },
       "removedWidgets": [],
       "schema": [
        {
         "metadata": "{}",
         "name": "Product_id",
         "type": "\"integer\""
        },
        {
         "metadata": "{}",
         "name": "Product_name",
         "type": "\"string\""
        },
        {
         "metadata": "{}",
         "name": "Product_count",
         "type": "\"long\""
        }
       ],
       "type": "table"
      }
     },
     "output_type": "display_data"
    }
   ],
   "source": [
    "from pyspark.sql.functions import count\n",
    "\n",
    "EachTotal = (sales_df.join(menu_df,'product_id').groupBy('Product_id','Product_name').agg(count('Product_id').alias('Product_count')).orderBy('Product_count',ascending=0)).limit(1)\n",
    "display(EachTotal)"
   ]
  },
  {
   "cell_type": "markdown",
   "metadata": {
    "application/vnd.databricks.v1+cell": {
     "cellMetadata": {},
     "inputWidgets": {},
     "nuid": "101febe9-07b6-4576-af6e-df3b0ee909d6",
     "showTitle": false,
     "tableResultSettingsMap": {},
     "title": ""
    }
   },
   "source": [
    "- Frequency of customers visited to restaurent"
   ]
  },
  {
   "cell_type": "code",
   "execution_count": 0,
   "metadata": {
    "application/vnd.databricks.v1+cell": {
     "cellMetadata": {
      "byteLimit": 2048000,
      "rowLimit": 10000
     },
     "inputWidgets": {},
     "nuid": "68b0dc24-c29d-4f59-92fe-a3b0b3e92d96",
     "showTitle": false,
     "tableResultSettingsMap": {},
     "title": ""
    }
   },
   "outputs": [
    {
     "output_type": "display_data",
     "data": {
      "text/html": [
       "<style scoped>\n",
       "  .table-result-container {\n",
       "    max-height: 300px;\n",
       "    overflow: auto;\n",
       "  }\n",
       "  table, th, td {\n",
       "    border: 1px solid black;\n",
       "    border-collapse: collapse;\n",
       "  }\n",
       "  th, td {\n",
       "    padding: 5px;\n",
       "  }\n",
       "  th {\n",
       "    text-align: left;\n",
       "  }\n",
       "</style><div class='table-result-container'><table class='table-result'><thead style='background-color: white'><tr><th>Customer_id</th><th>count(Order_date)</th></tr></thead><tbody><tr><td>E</td><td>5</td></tr><tr><td>B</td><td>6</td></tr><tr><td>D</td><td>1</td></tr><tr><td>C</td><td>3</td></tr><tr><td>A</td><td>6</td></tr></tbody></table></div>"
      ]
     },
     "metadata": {
      "application/vnd.databricks.v1+output": {
       "addedWidgets": {},
       "aggData": [],
       "aggError": "",
       "aggOverflow": false,
       "aggSchema": [],
       "aggSeriesLimitReached": false,
       "aggType": "",
       "arguments": {},
       "columnCustomDisplayInfos": {},
       "data": [
        [
         "E",
         5
        ],
        [
         "B",
         6
        ],
        [
         "D",
         1
        ],
        [
         "C",
         3
        ],
        [
         "A",
         6
        ]
       ],
       "datasetInfos": [],
       "dbfsResultPath": null,
       "isJsonSchema": true,
       "metadata": {},
       "overflow": false,
       "plotOptions": {
        "customPlotOptions": {},
        "displayType": "table",
        "pivotAggregation": null,
        "pivotColumns": null,
        "xColumns": null,
        "yColumns": null
       },
       "removedWidgets": [],
       "schema": [
        {
         "metadata": "{}",
         "name": "Customer_id",
         "type": "\"string\""
        },
        {
         "metadata": "{}",
         "name": "count(Order_date)",
         "type": "\"long\""
        }
       ],
       "type": "table"
      }
     },
     "output_type": "display_data"
    },
    {
     "output_type": "display_data",
     "data": {
      "text/plain": [
       "Databricks visualization. Run in Databricks to view."
      ]
     },
     "metadata": {
      "application/vnd.databricks.v1.subcommand+json": {
       "baseErrorDetails": null,
       "bindings": {},
       "collapsed": false,
       "command": "%python\n__backend_agg_display_orig = display\n__backend_agg_dfs = []\ndef __backend_agg_display_new(df):\n    __backend_agg_df_modules = [\"pandas.core.frame\", \"databricks.koalas.frame\", \"pyspark.sql.dataframe\", \"pyspark.pandas.frame\", \"pyspark.sql.connect.dataframe\"]\n    if (type(df).__module__ in __backend_agg_df_modules and type(df).__name__ == 'DataFrame') or isinstance(df, list):\n        __backend_agg_dfs.append(df)\n\ndisplay = __backend_agg_display_new\n\ndef __backend_agg_user_code_fn():\n    import base64\n    exec(base64.standard_b64decode(\"ZnJvbSBweXNwYXJrLnNxbC5mdW5jdGlvbnMgaW1wb3J0IGNvdW50RGlzdGluY3QKCmRmID0gKHNhbGVzX2RmLmZpbHRlcihzYWxlc19kZi5Tb3VyY2Vfb3JkZXI9PSdSZXN0YXVyYW50JykuZ3JvdXBCeSgnQ3VzdG9tZXJfaWQnKS5hZ2coY291bnREaXN0aW5jdCgnT3JkZXJfZGF0ZScpKSkKCmRpc3BsYXkoZGYp\").decode())\n\ntry:\n    # run user code\n    __backend_agg_user_code_fn()\n\n    #reset display function\n    display = __backend_agg_display_orig\n\n    if len(__backend_agg_dfs) > 0:\n        # create a temp view\n        if type(__backend_agg_dfs[0]).__module__ == \"databricks.koalas.frame\":\n            # koalas dataframe\n            __backend_agg_dfs[0].to_spark().createOrReplaceTempView(\"DatabricksViewe71f4ab\")\n        elif type(__backend_agg_dfs[0]).__module__ == \"pandas.core.frame\" or isinstance(__backend_agg_dfs[0], list):\n            # pandas dataframe\n            spark.createDataFrame(__backend_agg_dfs[0]).createOrReplaceTempView(\"DatabricksViewe71f4ab\")\n        else:\n            __backend_agg_dfs[0].createOrReplaceTempView(\"DatabricksViewe71f4ab\")\n        #run backend agg\n        display(spark.sql(\"\"\"WITH q AS (select * from DatabricksViewe71f4ab) SELECT `Customer_id`,SUM(`count(Order_date)`) `column_9460c9a9210` FROM q GROUP BY `Customer_id`\"\"\"))\n    else:\n        displayHTML(\"dataframe no longer exists. If you're using dataframe.display(), use display(dataframe) instead.\")\n\n\nfinally:\n    spark.sql(\"drop view if exists DatabricksViewe71f4ab\")\n    display = __backend_agg_display_orig\n    del __backend_agg_display_new\n    del __backend_agg_display_orig\n    del __backend_agg_dfs\n    del __backend_agg_user_code_fn\n\n",
       "commandTitle": "Visualization 1",
       "commandType": "auto",
       "commandVersion": 0,
       "commentThread": [],
       "commentsVisible": false,
       "contentSha256Hex": null,
       "customPlotOptions": {
        "redashChart": [
         {
          "key": "type",
          "value": "CHART"
         },
         {
          "key": "options",
          "value": {
           "alignYAxesAtZero": true,
           "coefficient": 1,
           "columnConfigurationMap": {
            "x": {
             "column": "Customer_id",
             "id": "column_9460c9a9209"
            },
            "y": [
             {
              "column": "count(Order_date)",
              "id": "column_9460c9a9210",
              "transform": "SUM"
             }
            ]
           },
           "dateTimeFormat": "DD/MM/YYYY HH:mm",
           "direction": {
            "type": "counterclockwise"
           },
           "error_y": {
            "type": "data",
            "visible": true
           },
           "globalSeriesType": "column",
           "isAggregationOn": true,
           "legend": {
            "traceorder": "normal"
           },
           "missingValuesAsZero": true,
           "numberFormat": "0,0.[00000]",
           "percentFormat": "0[.]00%",
           "series": {
            "error_y": {
             "type": "data",
             "visible": true
            },
            "stacking": null
           },
           "seriesOptions": {
            "column_9460c9a9210": {
             "color": "#FB8D3D",
             "name": "count(Order_date)",
             "type": "column",
             "yAxis": 0
            }
           },
           "showDataLabels": true,
           "sizemode": "diameter",
           "sortX": true,
           "sortY": true,
           "swappedAxes": false,
           "textFormat": "",
           "useAggregationsUi": true,
           "valuesOptions": {},
           "version": 2,
           "xAxis": {
            "labels": {
             "enabled": true
            },
            "type": "-"
           },
           "yAxis": [
            {
             "type": "-"
            },
            {
             "opposite": true,
             "type": "-"
            }
           ]
          }
         }
        ]
       },
       "datasetPreviewNameToCmdIdMap": {},
       "diffDeletes": [],
       "diffInserts": [],
       "displayType": "redashChart",
       "error": null,
       "errorDetails": null,
       "errorSummary": null,
       "errorTraceType": null,
       "finishTime": 0,
       "globalVars": {},
       "guid": "",
       "height": "auto",
       "hideCommandCode": false,
       "hideCommandResult": false,
       "iPythonMetadata": null,
       "inputWidgets": {},
       "isLockedInExamMode": false,
       "latestUser": "a user",
       "latestUserId": null,
       "listResultMetadata": null,
       "metadata": {},
       "nuid": "d30c3b64-2643-44c4-9b68-df998185ed69",
       "origId": 0,
       "parentHierarchy": [],
       "pivotAggregation": null,
       "pivotColumns": null,
       "position": 26.0,
       "resultDbfsErrorMessage": null,
       "resultDbfsStatus": "INLINED_IN_TREE",
       "results": null,
       "showCommandTitle": false,
       "startTime": 0,
       "state": "input",
       "streamStates": {},
       "subcommandOptions": {
        "queryPlan": {
         "groups": [
          {
           "column": "Customer_id",
           "type": "column"
          }
         ],
         "selects": [
          {
           "column": "Customer_id",
           "type": "column"
          },
          {
           "alias": "column_9460c9a9210",
           "args": [
            {
             "column": "count(Order_date)",
             "type": "column"
            }
           ],
           "function": "SUM",
           "type": "function"
          }
         ]
        }
       },
       "submitTime": 0,
       "subtype": "tableResultSubCmd.visualization",
       "tableResultIndex": 0,
       "tableResultSettingsMap": {},
       "useConsistentColors": false,
       "version": "CommandV1",
       "width": "auto",
       "workflows": [],
       "xColumns": null,
       "yColumns": null
      }
     },
     "output_type": "display_data"
    }
   ],
   "source": [
    "from pyspark.sql.functions import countDistinct\n",
    "\n",
    "df = (sales_df.filter(sales_df.Source_order=='Restaurant').groupBy('Customer_id').agg(countDistinct('Order_date')))\n",
    "\n",
    "display(df)"
   ]
  },
  {
   "cell_type": "markdown",
   "metadata": {
    "application/vnd.databricks.v1+cell": {
     "cellMetadata": {},
     "inputWidgets": {},
     "nuid": "220b8046-faba-4202-b094-b020632f776a",
     "showTitle": false,
     "tableResultSettingsMap": {},
     "title": ""
    }
   },
   "source": [
    "- Total Sales by each country"
   ]
  },
  {
   "cell_type": "code",
   "execution_count": 0,
   "metadata": {
    "application/vnd.databricks.v1+cell": {
     "cellMetadata": {
      "byteLimit": 2048000,
      "rowLimit": 10000
     },
     "inputWidgets": {},
     "nuid": "ca01df68-9aa9-41b1-8d6b-0c5105e6542f",
     "showTitle": false,
     "tableResultSettingsMap": {},
     "title": ""
    }
   },
   "outputs": [
    {
     "output_type": "display_data",
     "data": {
      "text/html": [
       "<style scoped>\n",
       "  .table-result-container {\n",
       "    max-height: 300px;\n",
       "    overflow: auto;\n",
       "  }\n",
       "  table, th, td {\n",
       "    border: 1px solid black;\n",
       "    border-collapse: collapse;\n",
       "  }\n",
       "  th, td {\n",
       "    padding: 5px;\n",
       "  }\n",
       "  th {\n",
       "    text-align: left;\n",
       "  }\n",
       "</style><div class='table-result-container'><table class='table-result'><thead style='background-color: white'><tr><th>Location</th><th>sum(Price)</th></tr></thead><tbody><tr><td>India</td><td>4860.0</td></tr><tr><td>USA</td><td>2460.0</td></tr><tr><td>UK</td><td>7020.0</td></tr></tbody></table></div>"
      ]
     },
     "metadata": {
      "application/vnd.databricks.v1+output": {
       "addedWidgets": {},
       "aggData": [],
       "aggError": "",
       "aggOverflow": false,
       "aggSchema": [],
       "aggSeriesLimitReached": false,
       "aggType": "",
       "arguments": {},
       "columnCustomDisplayInfos": {},
       "data": [
        [
         "India",
         4860.0
        ],
        [
         "USA",
         2460.0
        ],
        [
         "UK",
         7020.0
        ]
       ],
       "datasetInfos": [],
       "dbfsResultPath": null,
       "isJsonSchema": true,
       "metadata": {},
       "overflow": false,
       "plotOptions": {
        "customPlotOptions": {},
        "displayType": "table",
        "pivotAggregation": null,
        "pivotColumns": null,
        "xColumns": null,
        "yColumns": null
       },
       "removedWidgets": [],
       "schema": [
        {
         "metadata": "{}",
         "name": "Location",
         "type": "\"string\""
        },
        {
         "metadata": "{}",
         "name": "sum(Price)",
         "type": "\"double\""
        }
       ],
       "type": "table"
      }
     },
     "output_type": "display_data"
    },
    {
     "output_type": "display_data",
     "data": {
      "text/plain": [
       "Databricks visualization. Run in Databricks to view."
      ]
     },
     "metadata": {
      "application/vnd.databricks.v1.subcommand+json": {
       "baseErrorDetails": null,
       "bindings": {},
       "collapsed": false,
       "command": "%python\n__backend_agg_display_orig = display\n__backend_agg_dfs = []\ndef __backend_agg_display_new(df):\n    __backend_agg_df_modules = [\"pandas.core.frame\", \"databricks.koalas.frame\", \"pyspark.sql.dataframe\", \"pyspark.pandas.frame\", \"pyspark.sql.connect.dataframe\"]\n    if (type(df).__module__ in __backend_agg_df_modules and type(df).__name__ == 'DataFrame') or isinstance(df, list):\n        __backend_agg_dfs.append(df)\n\ndisplay = __backend_agg_display_new\n\ndef __backend_agg_user_code_fn():\n    import base64\n    exec(base64.standard_b64decode(\"VG90YWxBbW91bnRTcGVudCA9IChzYWxlc19kZi5qb2luKG1lbnVfZGYsJ1Byb2R1Y3RfaWQnKS5ncm91cGJ5KCdMb2NhdGlvbicpKS5hZ2coeydQcmljZSc6J3N1bSd9KQpkaXNwbGF5KFRvdGFsQW1vdW50U3BlbnQp\").decode())\n\ntry:\n    # run user code\n    __backend_agg_user_code_fn()\n\n    #reset display function\n    display = __backend_agg_display_orig\n\n    if len(__backend_agg_dfs) > 0:\n        # create a temp view\n        if type(__backend_agg_dfs[0]).__module__ == \"databricks.koalas.frame\":\n            # koalas dataframe\n            __backend_agg_dfs[0].to_spark().createOrReplaceTempView(\"DatabricksViewd13f33d\")\n        elif type(__backend_agg_dfs[0]).__module__ == \"pandas.core.frame\" or isinstance(__backend_agg_dfs[0], list):\n            # pandas dataframe\n            spark.createDataFrame(__backend_agg_dfs[0]).createOrReplaceTempView(\"DatabricksViewd13f33d\")\n        else:\n            __backend_agg_dfs[0].createOrReplaceTempView(\"DatabricksViewd13f33d\")\n        #run backend agg\n        display(spark.sql(\"\"\"WITH q AS (select * from DatabricksViewd13f33d) SELECT `Location`,SUM(`sum(Price)`) `column_9460c9a9213` FROM q GROUP BY `Location`\"\"\"))\n    else:\n        displayHTML(\"dataframe no longer exists. If you're using dataframe.display(), use display(dataframe) instead.\")\n\n\nfinally:\n    spark.sql(\"drop view if exists DatabricksViewd13f33d\")\n    display = __backend_agg_display_orig\n    del __backend_agg_display_new\n    del __backend_agg_display_orig\n    del __backend_agg_dfs\n    del __backend_agg_user_code_fn\n\n",
       "commandTitle": "Visualization 1",
       "commandType": "auto",
       "commandVersion": 0,
       "commentThread": [],
       "commentsVisible": false,
       "contentSha256Hex": null,
       "customPlotOptions": {
        "redashChart": [
         {
          "key": "type",
          "value": "CHART"
         },
         {
          "key": "options",
          "value": {
           "alignYAxesAtZero": true,
           "coefficient": 1,
           "columnConfigurationMap": {
            "x": {
             "column": "Location",
             "id": "column_9460c9a9212"
            },
            "y": [
             {
              "column": "sum(Price)",
              "id": "column_9460c9a9213",
              "transform": "SUM"
             }
            ]
           },
           "dateTimeFormat": "DD/MM/YYYY HH:mm",
           "direction": {
            "type": "counterclockwise"
           },
           "error_y": {
            "type": "data",
            "visible": true
           },
           "globalSeriesType": "pie",
           "legend": {
            "traceorder": "normal"
           },
           "missingValuesAsZero": true,
           "numberFormat": "0,0.[00000]",
           "percentFormat": "0[.]00%",
           "series": {
            "error_y": {
             "type": "data",
             "visible": true
            },
            "stacking": null
           },
           "seriesOptions": {
            "column_9460c9a9213": {
             "name": "sum(Price)",
             "type": "pie",
             "yAxis": 0
            }
           },
           "showDataLabels": true,
           "sizemode": "diameter",
           "sortX": true,
           "sortY": true,
           "swappedAxes": false,
           "textFormat": "",
           "useAggregationsUi": true,
           "valuesOptions": {},
           "version": 2,
           "xAxis": {
            "labels": {
             "enabled": true
            },
            "type": "-"
           },
           "yAxis": [
            {
             "type": "-"
            },
            {
             "opposite": true,
             "type": "-"
            }
           ]
          }
         }
        ]
       },
       "datasetPreviewNameToCmdIdMap": {},
       "diffDeletes": [],
       "diffInserts": [],
       "displayType": "redashChart",
       "error": null,
       "errorDetails": null,
       "errorSummary": null,
       "errorTraceType": null,
       "finishTime": 0,
       "globalVars": {},
       "guid": "",
       "height": "auto",
       "hideCommandCode": false,
       "hideCommandResult": false,
       "iPythonMetadata": null,
       "inputWidgets": {},
       "isLockedInExamMode": false,
       "latestUser": "a user",
       "latestUserId": null,
       "listResultMetadata": null,
       "metadata": {},
       "nuid": "11632dcd-ae19-4e6d-8e51-c464e91995ff",
       "origId": 0,
       "parentHierarchy": [],
       "pivotAggregation": null,
       "pivotColumns": null,
       "position": 27.0,
       "resultDbfsErrorMessage": null,
       "resultDbfsStatus": "INLINED_IN_TREE",
       "results": null,
       "showCommandTitle": false,
       "startTime": 0,
       "state": "input",
       "streamStates": {},
       "subcommandOptions": {
        "queryPlan": {
         "groups": [
          {
           "column": "Location",
           "type": "column"
          }
         ],
         "selects": [
          {
           "column": "Location",
           "type": "column"
          },
          {
           "alias": "column_9460c9a9213",
           "args": [
            {
             "column": "sum(Price)",
             "type": "column"
            }
           ],
           "function": "SUM",
           "type": "function"
          }
         ]
        }
       },
       "submitTime": 0,
       "subtype": "tableResultSubCmd.visualization",
       "tableResultIndex": 0,
       "tableResultSettingsMap": {},
       "useConsistentColors": false,
       "version": "CommandV1",
       "width": "auto",
       "workflows": [],
       "xColumns": null,
       "yColumns": null
      }
     },
     "output_type": "display_data"
    }
   ],
   "source": [
    "TotalAmountSpent = (sales_df.join(menu_df,'Product_id').groupby('Location')).agg({'Price':'sum'})\n",
    "display(TotalAmountSpent)"
   ]
  },
  {
   "cell_type": "markdown",
   "metadata": {
    "application/vnd.databricks.v1+cell": {
     "cellMetadata": {},
     "inputWidgets": {},
     "nuid": "77411300-c62b-4aa9-9cfb-3ceff45a38e3",
     "showTitle": false,
     "tableResultSettingsMap": {},
     "title": ""
    }
   },
   "source": [
    "- Total Sales by order Source"
   ]
  },
  {
   "cell_type": "code",
   "execution_count": 0,
   "metadata": {
    "application/vnd.databricks.v1+cell": {
     "cellMetadata": {
      "byteLimit": 2048000,
      "rowLimit": 10000
     },
     "inputWidgets": {},
     "nuid": "a87c6824-8c40-41b9-8bdd-984d930515f0",
     "showTitle": false,
     "tableResultSettingsMap": {},
     "title": ""
    }
   },
   "outputs": [
    {
     "output_type": "display_data",
     "data": {
      "text/html": [
       "<style scoped>\n",
       "  .table-result-container {\n",
       "    max-height: 300px;\n",
       "    overflow: auto;\n",
       "  }\n",
       "  table, th, td {\n",
       "    border: 1px solid black;\n",
       "    border-collapse: collapse;\n",
       "  }\n",
       "  th, td {\n",
       "    padding: 5px;\n",
       "  }\n",
       "  th {\n",
       "    text-align: left;\n",
       "  }\n",
       "</style><div class='table-result-container'><table class='table-result'><thead style='background-color: white'><tr><th>Source_order</th><th>sum(Price)</th></tr></thead><tbody><tr><td>zomato</td><td>4920.0</td></tr><tr><td>Swiggy</td><td>6330.0</td></tr><tr><td>Restaurant</td><td>3090.0</td></tr></tbody></table></div>"
      ]
     },
     "metadata": {
      "application/vnd.databricks.v1+output": {
       "addedWidgets": {},
       "aggData": [],
       "aggError": "",
       "aggOverflow": false,
       "aggSchema": [],
       "aggSeriesLimitReached": false,
       "aggType": "",
       "arguments": {},
       "columnCustomDisplayInfos": {},
       "data": [
        [
         "zomato",
         4920.0
        ],
        [
         "Swiggy",
         6330.0
        ],
        [
         "Restaurant",
         3090.0
        ]
       ],
       "datasetInfos": [],
       "dbfsResultPath": null,
       "isJsonSchema": true,
       "metadata": {},
       "overflow": false,
       "plotOptions": {
        "customPlotOptions": {},
        "displayType": "table",
        "pivotAggregation": null,
        "pivotColumns": null,
        "xColumns": null,
        "yColumns": null
       },
       "removedWidgets": [],
       "schema": [
        {
         "metadata": "{}",
         "name": "Source_order",
         "type": "\"string\""
        },
        {
         "metadata": "{}",
         "name": "sum(Price)",
         "type": "\"double\""
        }
       ],
       "type": "table"
      }
     },
     "output_type": "display_data"
    },
    {
     "output_type": "display_data",
     "data": {
      "text/plain": [
       "Databricks visualization. Run in Databricks to view."
      ]
     },
     "metadata": {
      "application/vnd.databricks.v1.subcommand+json": {
       "baseErrorDetails": null,
       "bindings": {},
       "collapsed": false,
       "command": "%python\n__backend_agg_display_orig = display\n__backend_agg_dfs = []\ndef __backend_agg_display_new(df):\n    __backend_agg_df_modules = [\"pandas.core.frame\", \"databricks.koalas.frame\", \"pyspark.sql.dataframe\", \"pyspark.pandas.frame\", \"pyspark.sql.connect.dataframe\"]\n    if (type(df).__module__ in __backend_agg_df_modules and type(df).__name__ == 'DataFrame') or isinstance(df, list):\n        __backend_agg_dfs.append(df)\n\ndisplay = __backend_agg_display_new\n\ndef __backend_agg_user_code_fn():\n    import base64\n    exec(base64.standard_b64decode(\"VG90YWxPcmRlckJ5RWNoU291cmNlID0gKHNhbGVzX2RmLmpvaW4obWVudV9kZiwnUHJvZHVjdF9pZCcpLmdyb3VwYnkoJ1NvdXJjZV9vcmRlcicpKS5hZ2coeydQcmljZSc6J3N1bSd9KQpkaXNwbGF5KFRvdGFsT3JkZXJCeUVjaFNvdXJjZSk=\").decode())\n\ntry:\n    # run user code\n    __backend_agg_user_code_fn()\n\n    #reset display function\n    display = __backend_agg_display_orig\n\n    if len(__backend_agg_dfs) > 0:\n        # create a temp view\n        if type(__backend_agg_dfs[0]).__module__ == \"databricks.koalas.frame\":\n            # koalas dataframe\n            __backend_agg_dfs[0].to_spark().createOrReplaceTempView(\"DatabricksViewec314ce\")\n        elif type(__backend_agg_dfs[0]).__module__ == \"pandas.core.frame\" or isinstance(__backend_agg_dfs[0], list):\n            # pandas dataframe\n            spark.createDataFrame(__backend_agg_dfs[0]).createOrReplaceTempView(\"DatabricksViewec314ce\")\n        else:\n            __backend_agg_dfs[0].createOrReplaceTempView(\"DatabricksViewec314ce\")\n        #run backend agg\n        display(spark.sql(\"\"\"WITH q AS (select * from DatabricksViewec314ce) SELECT `Source_order`,SUM(`sum(Price)`) `column_9460c9a9131` FROM q GROUP BY `Source_order`\"\"\"))\n    else:\n        displayHTML(\"dataframe no longer exists. If you're using dataframe.display(), use display(dataframe) instead.\")\n\n\nfinally:\n    spark.sql(\"drop view if exists DatabricksViewec314ce\")\n    display = __backend_agg_display_orig\n    del __backend_agg_display_new\n    del __backend_agg_display_orig\n    del __backend_agg_dfs\n    del __backend_agg_user_code_fn\n\n",
       "commandTitle": "Visualization 1",
       "commandType": "auto",
       "commandVersion": 0,
       "commentThread": [],
       "commentsVisible": false,
       "contentSha256Hex": null,
       "customPlotOptions": {
        "redashChart": [
         {
          "key": "type",
          "value": "CHART"
         },
         {
          "key": "options",
          "value": {
           "alignYAxesAtZero": true,
           "coefficient": 1,
           "columnConfigurationMap": {
            "x": {
             "column": "Source_order",
             "id": "column_9460c9a9130"
            },
            "y": [
             {
              "column": "sum(Price)",
              "id": "column_9460c9a9131",
              "transform": "SUM"
             }
            ]
           },
           "dateTimeFormat": "DD/MM/YYYY HH:mm",
           "direction": {
            "type": "counterclockwise"
           },
           "error_y": {
            "type": "data",
            "visible": true
           },
           "globalSeriesType": "pie",
           "legend": {
            "traceorder": "normal"
           },
           "missingValuesAsZero": true,
           "numberFormat": "0,0.[00000]",
           "percentFormat": "0[.]00%",
           "series": {
            "error_y": {
             "type": "data",
             "visible": true
            },
            "stacking": null
           },
           "seriesOptions": {
            "column_9460c9a9131": {
             "name": "sum(Price)",
             "type": "pie",
             "yAxis": 0
            }
           },
           "showDataLabels": true,
           "sizemode": "diameter",
           "sortX": true,
           "sortY": true,
           "swappedAxes": false,
           "textFormat": "",
           "useAggregationsUi": true,
           "valuesOptions": {},
           "version": 2,
           "xAxis": {
            "labels": {
             "enabled": true
            },
            "type": "-"
           },
           "yAxis": [
            {
             "type": "-"
            },
            {
             "opposite": true,
             "type": "-"
            }
           ]
          }
         }
        ]
       },
       "datasetPreviewNameToCmdIdMap": {},
       "diffDeletes": [],
       "diffInserts": [],
       "displayType": "redashChart",
       "error": null,
       "errorDetails": null,
       "errorSummary": null,
       "errorTraceType": null,
       "finishTime": 0,
       "globalVars": {},
       "guid": "",
       "height": "auto",
       "hideCommandCode": false,
       "hideCommandResult": false,
       "iPythonMetadata": null,
       "inputWidgets": {},
       "isLockedInExamMode": false,
       "latestUser": "a user",
       "latestUserId": null,
       "listResultMetadata": null,
       "metadata": {},
       "nuid": "2cf8365e-f21f-407a-8534-9f8276fc829f",
       "origId": 0,
       "parentHierarchy": [],
       "pivotAggregation": null,
       "pivotColumns": null,
       "position": 29.0,
       "resultDbfsErrorMessage": null,
       "resultDbfsStatus": "INLINED_IN_TREE",
       "results": null,
       "showCommandTitle": false,
       "startTime": 0,
       "state": "input",
       "streamStates": {},
       "subcommandOptions": {
        "queryPlan": {
         "groups": [
          {
           "column": "Source_order",
           "type": "column"
          }
         ],
         "selects": [
          {
           "column": "Source_order",
           "type": "column"
          },
          {
           "alias": "column_9460c9a9131",
           "args": [
            {
             "column": "sum(Price)",
             "type": "column"
            }
           ],
           "function": "SUM",
           "type": "function"
          }
         ]
        }
       },
       "submitTime": 0,
       "subtype": "tableResultSubCmd.visualization",
       "tableResultIndex": 0,
       "tableResultSettingsMap": {},
       "useConsistentColors": false,
       "version": "CommandV1",
       "width": "auto",
       "workflows": [],
       "xColumns": null,
       "yColumns": null
      }
     },
     "output_type": "display_data"
    }
   ],
   "source": [
    "TotalOrderByEchSource = (sales_df.join(menu_df,'Product_id').groupby('Source_order')).agg({'Price':'sum'})\n",
    "display(TotalOrderByEchSource)"
   ]
  }
 ],
 "metadata": {
  "application/vnd.databricks.v1+notebook": {
   "computePreferences": null,
   "dashboards": [
    {
     "elements": [
      {
       "dashboardResultIndex": null,
       "elementNUID": "2cf8365e-f21f-407a-8534-9f8276fc829f",
       "elementType": "command",
       "guid": "59371092-d65e-40a5-8097-b2184b525893",
       "options": {
        "autoScaleImg": false,
        "scale": 0,
        "showTitle": true,
        "title": "Sales with respect to producer",
        "titleAlign": "center"
       },
       "position": {
        "height": 6,
        "width": 12,
        "x": 0,
        "y": 0,
        "z": null
       },
       "resultIndex": null
      },
      {
       "dashboardResultIndex": null,
       "elementNUID": "cb7d1dfe-f7ca-4e01-ae46-12dcfd49b0da",
       "elementType": "command",
       "guid": "5b70a6de-50c9-4135-a8c7-6c1925dda3fc",
       "options": {
        "autoScaleImg": false,
        "scale": 0,
        "showTitle": true,
        "title": "Monthly order vs total price",
        "titleAlign": "center"
       },
       "position": {
        "height": 5,
        "width": 23,
        "x": 0,
        "y": 6,
        "z": null
       },
       "resultIndex": null
      },
      {
       "dashboardResultIndex": null,
       "elementNUID": "ef60c5f6-1890-40aa-b228-f48c1bfd42bc",
       "elementType": "command",
       "guid": "648f5447-3ef0-4325-bca5-1b6781e14c4f",
       "options": {
        "autoScaleImg": false,
        "scale": 0,
        "showTitle": true,
        "title": "Total Price spent by each customer",
        "titleAlign": "center"
       },
       "position": {
        "height": 8,
        "width": 19,
        "x": 1,
        "y": 30,
        "z": null
       },
       "resultIndex": null
      },
      {
       "dashboardResultIndex": null,
       "elementNUID": "11632dcd-ae19-4e6d-8e51-c464e91995ff",
       "elementType": "command",
       "guid": "8a66a0d5-b535-4af2-a192-30b80c30642f",
       "options": {
        "autoScaleImg": false,
        "scale": 0,
        "showTitle": true,
        "title": "Total sales with respect to country",
        "titleAlign": "center"
       },
       "position": {
        "height": 10,
        "width": 15,
        "x": 0,
        "y": 11,
        "z": null
       },
       "resultIndex": null
      },
      {
       "dashboardResultIndex": null,
       "elementNUID": "5b0a8ccf-dd4a-4d86-bd1c-6962d60c9ea5",
       "elementType": "command",
       "guid": "9156be06-7652-4b4b-b22a-d4c54376862c",
       "options": {
        "autoScaleImg": false,
        "scale": 0,
        "showTitle": true,
        "title": "Quaterly sales data",
        "titleAlign": "center"
       },
       "position": {
        "height": 9,
        "width": 15,
        "x": 9,
        "y": 21,
        "z": null
       },
       "resultIndex": null
      },
      {
       "dashboardResultIndex": null,
       "elementNUID": "3df8f50a-58bc-4d74-9e39-1a82b2dc30c2",
       "elementType": "command",
       "guid": "9d29e669-0eb4-4619-a88b-eea9a4ef2227",
       "options": {
        "autoScaleImg": false,
        "scale": 0,
        "showTitle": true,
        "title": "Sum of product sold for each category",
        "titleAlign": "center"
       },
       "position": {
        "height": 6,
        "width": 12,
        "x": 0,
        "y": 38,
        "z": null
       },
       "resultIndex": null
      },
      {
       "dashboardResultIndex": null,
       "elementNUID": "d30c3b64-2643-44c4-9b68-df998185ed69",
       "elementType": "command",
       "guid": "a04acb31-7ff0-4797-87b8-ed15d5857394",
       "options": {
        "autoScaleImg": false,
        "scale": 0,
        "showTitle": true,
        "title": "Number of orders w.r.t customer",
        "titleAlign": "center"
       },
       "position": {
        "height": 6,
        "width": 12,
        "x": 12,
        "y": 38,
        "z": null
       },
       "resultIndex": null
      },
      {
       "dashboardResultIndex": null,
       "elementNUID": "1056549e-0f17-4676-b0bb-8a6220a8f104",
       "elementType": "command",
       "guid": "a969686d-8cf9-4f45-8da6-c5be2099ead1",
       "options": {
        "autoScaleImg": false,
        "scale": 0,
        "showTitle": true,
        "title": "Yearly Analysis",
        "titleAlign": "center"
       },
       "position": {
        "height": 6,
        "width": 7,
        "x": 7,
        "y": 44,
        "z": null
       },
       "resultIndex": null
      },
      {
       "dashboardResultIndex": null,
       "elementNUID": "a2cf7df7-3186-4754-bb26-941c905be755",
       "elementType": "command",
       "guid": "bf66fea1-5d0d-434f-8a4e-fc2977804ca1",
       "options": {
        "autoScaleImg": false,
        "scale": 0,
        "showTitle": true,
        "title": "Sum of price for each fod item",
        "titleAlign": "center"
       },
       "position": {
        "height": 8,
        "width": 8,
        "x": 0,
        "y": 21,
        "z": null
       },
       "resultIndex": null
      },
      {
       "dashboardResultIndex": null,
       "elementNUID": "05265320-77e2-493f-80c9-71aa83d4f269",
       "elementType": "command",
       "guid": "f36436b8-1448-47cc-918a-187b3eb9953f",
       "options": {
        "autoScaleImg": false,
        "scale": 0,
        "showTitle": true,
        "title": "Total number of orders by each category",
        "titleAlign": "center"
       },
       "position": {
        "height": 6,
        "width": 12,
        "x": 12,
        "y": 0,
        "z": null
       },
       "resultIndex": null
      }
     ],
     "globalVars": {},
     "guid": "",
     "layoutOption": {
      "grid": true,
      "stack": true
     },
     "nuid": "61640661-d433-4efb-bb4c-cdb4185dfe16",
     "origId": 3645227833372789,
     "title": "Sales data",
     "version": "DashboardViewV1",
     "width": 1024
    }
   ],
   "environmentMetadata": {
    "base_environment": "",
    "environment_version": "1"
   },
   "inputWidgetPreferences": null,
   "language": "python",
   "notebookMetadata": {
    "pythonIndentUnit": 4
   },
   "notebookName": "Sales Data Analysis",
   "widgets": {}
  }
 },
 "nbformat": 4,
 "nbformat_minor": 0
}